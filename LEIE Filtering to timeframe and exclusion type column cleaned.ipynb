{
 "cells": [
  {
   "cell_type": "code",
   "execution_count": 1,
   "metadata": {},
   "outputs": [],
   "source": [
    "import numpy as np\n",
    "import pandas as pd\n",
    "import matplotlib.pyplot as plt"
   ]
  },
  {
   "cell_type": "code",
   "execution_count": 2,
   "metadata": {},
   "outputs": [],
   "source": [
    "# reading in LEIE_updated\n",
    "leie_updated = pd.read_csv('LEIE.csv', dtype=object)"
   ]
  },
  {
   "cell_type": "code",
   "execution_count": 3,
   "metadata": {},
   "outputs": [
    {
     "data": {
      "text/html": [
       "<div>\n",
       "<style scoped>\n",
       "    .dataframe tbody tr th:only-of-type {\n",
       "        vertical-align: middle;\n",
       "    }\n",
       "\n",
       "    .dataframe tbody tr th {\n",
       "        vertical-align: top;\n",
       "    }\n",
       "\n",
       "    .dataframe thead th {\n",
       "        text-align: right;\n",
       "    }\n",
       "</style>\n",
       "<table border=\"1\" class=\"dataframe\">\n",
       "  <thead>\n",
       "    <tr style=\"text-align: right;\">\n",
       "      <th></th>\n",
       "      <th>LASTNAME</th>\n",
       "      <th>FIRSTNAME</th>\n",
       "      <th>MIDNAME</th>\n",
       "      <th>BUSNAME</th>\n",
       "      <th>GENERAL</th>\n",
       "      <th>SPECIALTY</th>\n",
       "      <th>UPIN</th>\n",
       "      <th>NPI</th>\n",
       "      <th>DOB</th>\n",
       "      <th>ADDRESS</th>\n",
       "      <th>CITY</th>\n",
       "      <th>STATE</th>\n",
       "      <th>ZIP</th>\n",
       "      <th>EXCLTYPE</th>\n",
       "      <th>EXCLDATE</th>\n",
       "      <th>REINDATE</th>\n",
       "      <th>WAIVERDATE</th>\n",
       "      <th>WVRSTATE</th>\n",
       "    </tr>\n",
       "  </thead>\n",
       "  <tbody>\n",
       "    <tr>\n",
       "      <th>0</th>\n",
       "      <td>NaN</td>\n",
       "      <td>NaN</td>\n",
       "      <td></td>\n",
       "      <td>#1 MARKETING SERVICE, INC</td>\n",
       "      <td>OTHER BUSINESS</td>\n",
       "      <td>SOBER HOME</td>\n",
       "      <td>NaN</td>\n",
       "      <td>0000000000</td>\n",
       "      <td>NaN</td>\n",
       "      <td>239 BRIGHTON BEACH AVENUE</td>\n",
       "      <td>BROOKLYN</td>\n",
       "      <td>NY</td>\n",
       "      <td>11235</td>\n",
       "      <td>1128a1</td>\n",
       "      <td>20200319</td>\n",
       "      <td>00000000</td>\n",
       "      <td>00000000</td>\n",
       "      <td>NaN</td>\n",
       "    </tr>\n",
       "    <tr>\n",
       "      <th>1</th>\n",
       "      <td>NaN</td>\n",
       "      <td>NaN</td>\n",
       "      <td></td>\n",
       "      <td>14 LAWRENCE AVE PHARMACY</td>\n",
       "      <td>PHARMACY</td>\n",
       "      <td>NaN</td>\n",
       "      <td>NaN</td>\n",
       "      <td>0000000000</td>\n",
       "      <td>NaN</td>\n",
       "      <td>14 LAWRENCE AVENUE</td>\n",
       "      <td>SMITHTOWN</td>\n",
       "      <td>NY</td>\n",
       "      <td>11787</td>\n",
       "      <td>1128a1</td>\n",
       "      <td>19880830</td>\n",
       "      <td>00000000</td>\n",
       "      <td>00000000</td>\n",
       "      <td>NaN</td>\n",
       "    </tr>\n",
       "    <tr>\n",
       "      <th>2</th>\n",
       "      <td>NaN</td>\n",
       "      <td>NaN</td>\n",
       "      <td></td>\n",
       "      <td>143 MEDICAL EQUIPMENT CO</td>\n",
       "      <td>DME COMPANY</td>\n",
       "      <td>DME - OXYGEN</td>\n",
       "      <td>NaN</td>\n",
       "      <td>0000000000</td>\n",
       "      <td>NaN</td>\n",
       "      <td>701 NW 36 AVENUE</td>\n",
       "      <td>MIAMI</td>\n",
       "      <td>FL</td>\n",
       "      <td>33125</td>\n",
       "      <td>1128b7</td>\n",
       "      <td>19970620</td>\n",
       "      <td>00000000</td>\n",
       "      <td>00000000</td>\n",
       "      <td>NaN</td>\n",
       "    </tr>\n",
       "    <tr>\n",
       "      <th>3</th>\n",
       "      <td>NaN</td>\n",
       "      <td>NaN</td>\n",
       "      <td></td>\n",
       "      <td>184TH STREET PHARMACY CORP</td>\n",
       "      <td>OTHER BUSINESS</td>\n",
       "      <td>PHARMACY</td>\n",
       "      <td>NaN</td>\n",
       "      <td>1922348218</td>\n",
       "      <td>NaN</td>\n",
       "      <td>69 E 184TH ST</td>\n",
       "      <td>BRONX</td>\n",
       "      <td>NY</td>\n",
       "      <td>10468</td>\n",
       "      <td>1128a1</td>\n",
       "      <td>20180419</td>\n",
       "      <td>00000000</td>\n",
       "      <td>00000000</td>\n",
       "      <td>NaN</td>\n",
       "    </tr>\n",
       "    <tr>\n",
       "      <th>4</th>\n",
       "      <td>NaN</td>\n",
       "      <td>NaN</td>\n",
       "      <td></td>\n",
       "      <td>1951 FLATBUSH AVENUE PHARMACY</td>\n",
       "      <td>PHARMACY</td>\n",
       "      <td>NaN</td>\n",
       "      <td>NaN</td>\n",
       "      <td>0000000000</td>\n",
       "      <td>NaN</td>\n",
       "      <td>1951 FLATBUSH AVE</td>\n",
       "      <td>BROOKLYN</td>\n",
       "      <td>NY</td>\n",
       "      <td>11234</td>\n",
       "      <td>1128b5</td>\n",
       "      <td>20090319</td>\n",
       "      <td>00000000</td>\n",
       "      <td>00000000</td>\n",
       "      <td>NaN</td>\n",
       "    </tr>\n",
       "  </tbody>\n",
       "</table>\n",
       "</div>"
      ],
      "text/plain": [
       "  LASTNAME FIRSTNAME MIDNAME                        BUSNAME         GENERAL  \\\n",
       "0      NaN       NaN              #1 MARKETING SERVICE, INC  OTHER BUSINESS   \n",
       "1      NaN       NaN               14 LAWRENCE AVE PHARMACY        PHARMACY   \n",
       "2      NaN       NaN               143 MEDICAL EQUIPMENT CO     DME COMPANY   \n",
       "3      NaN       NaN             184TH STREET PHARMACY CORP  OTHER BUSINESS   \n",
       "4      NaN       NaN          1951 FLATBUSH AVENUE PHARMACY        PHARMACY   \n",
       "\n",
       "      SPECIALTY UPIN         NPI  DOB                    ADDRESS       CITY  \\\n",
       "0    SOBER HOME  NaN  0000000000  NaN  239 BRIGHTON BEACH AVENUE   BROOKLYN   \n",
       "1           NaN  NaN  0000000000  NaN         14 LAWRENCE AVENUE  SMITHTOWN   \n",
       "2  DME - OXYGEN  NaN  0000000000  NaN           701 NW 36 AVENUE      MIAMI   \n",
       "3      PHARMACY  NaN  1922348218  NaN              69 E 184TH ST      BRONX   \n",
       "4           NaN  NaN  0000000000  NaN          1951 FLATBUSH AVE   BROOKLYN   \n",
       "\n",
       "  STATE    ZIP EXCLTYPE  EXCLDATE  REINDATE WAIVERDATE WVRSTATE  \n",
       "0    NY  11235   1128a1  20200319  00000000   00000000      NaN  \n",
       "1    NY  11787   1128a1  19880830  00000000   00000000      NaN  \n",
       "2    FL  33125   1128b7  19970620  00000000   00000000      NaN  \n",
       "3    NY  10468   1128a1  20180419  00000000   00000000      NaN  \n",
       "4    NY  11234   1128b5  20090319  00000000   00000000      NaN  "
      ]
     },
     "execution_count": 3,
     "metadata": {},
     "output_type": "execute_result"
    }
   ],
   "source": [
    "#Checking the csv read in correctly\n",
    "leie_updated.head()"
   ]
  },
  {
   "cell_type": "code",
   "execution_count": 4,
   "metadata": {},
   "outputs": [],
   "source": [
    "#Drop unneeded columns\n",
    "leie = leie_updated.drop(['UPIN', 'REINDATE', 'MIDNAME', 'GENERAL', 'ADDRESS', 'ZIP', 'WAIVERDATE', 'WVRSTATE'], axis = 1)"
   ]
  },
  {
   "cell_type": "code",
   "execution_count": 5,
   "metadata": {},
   "outputs": [
    {
     "data": {
      "text/plain": [
       "Index(['LASTNAME', 'FIRSTNAME', 'BUSNAME', 'SPECIALTY', 'NPI', 'DOB', 'CITY',\n",
       "       'STATE', 'EXCLTYPE', 'EXCLDATE'],\n",
       "      dtype='object')"
      ]
     },
     "execution_count": 5,
     "metadata": {},
     "output_type": "execute_result"
    }
   ],
   "source": [
    "#Checking columns dropped successfully\n",
    "leie.columns"
   ]
  },
  {
   "cell_type": "code",
   "execution_count": 6,
   "metadata": {},
   "outputs": [],
   "source": [
    "#Creating a column with the year only, instead of exact date, to easily filter the data by year\n",
    "leie['EXCLYear'] = leie['EXCLDATE'].str[0:4]"
   ]
  },
  {
   "cell_type": "code",
   "execution_count": 7,
   "metadata": {},
   "outputs": [],
   "source": [
    "#Converting columns to numeric values\n",
    "leie['NPI'] = pd.to_numeric(leie['NPI'])"
   ]
  },
  {
   "cell_type": "code",
   "execution_count": 8,
   "metadata": {},
   "outputs": [],
   "source": [
    "leie['EXCLYear'] = pd.to_numeric(leie['EXCLYear'])"
   ]
  },
  {
   "cell_type": "code",
   "execution_count": 9,
   "metadata": {},
   "outputs": [
    {
     "name": "stdout",
     "output_type": "stream",
     "text": [
      "LASTNAME     object\n",
      "FIRSTNAME    object\n",
      "BUSNAME      object\n",
      "SPECIALTY    object\n",
      "NPI           int64\n",
      "DOB          object\n",
      "CITY         object\n",
      "STATE        object\n",
      "EXCLTYPE     object\n",
      "EXCLDATE     object\n",
      "EXCLYear      int64\n",
      "dtype: object\n"
     ]
    }
   ],
   "source": [
    "#Checking conversion\n",
    "print(leie.dtypes)"
   ]
  },
  {
   "cell_type": "code",
   "execution_count": 10,
   "metadata": {},
   "outputs": [
    {
     "data": {
      "text/plain": [
       "1128b4       30629\n",
       "1128a1       20616\n",
       "1128a2        6900\n",
       "1128a3        4137\n",
       "1128a4        2849\n",
       "1128b14       2292\n",
       "1128b8        1492\n",
       "1128a1         911\n",
       "1128b1         831\n",
       "1128b5         810\n",
       "1128b7         612\n",
       "1128b3         310\n",
       "1128Aa         149\n",
       "1128a3         126\n",
       "1128a2          88\n",
       "1128b6          66\n",
       "1156            58\n",
       "1128b2          54\n",
       "1128b15         34\n",
       "1128b7          24\n",
       "1128b11         11\n",
       "BRCH SA         10\n",
       "1160             9\n",
       "BRCH CIA         8\n",
       "1128b6           3\n",
       "1128b16          3\n",
       "1128a4           2\n",
       "1128b2           2\n",
       "1128b1           1\n",
       "1128b12          1\n",
       "1128b5           1\n",
       "Name: EXCLTYPE, dtype: int64"
      ]
     },
     "execution_count": 10,
     "metadata": {},
     "output_type": "execute_result"
    }
   ],
   "source": [
    "#Looking at exclusion type values\n",
    "leie['EXCLTYPE'].value_counts()"
   ]
  },
  {
   "cell_type": "raw",
   "metadata": {},
   "source": [
    "Not all of these codes indicate fraud but the team is thinking of possibly widening the scope of our model and predict exclusion from Medicare for all reason, not just fraud. However, after combining the exclusions with the provider data, we may still narrow the exclusion types we keep. A list is publicly available defining the offense for each.  \n",
    "\n",
    "Some of the types are listed multiple times, most likely because they have extra spaces at the end of them so they are not all consolidating together properly (e.g. 1128a1 shows a count of 7062 and another 1128a1 with a count of 392). Therefore, will work to clean up this column to harmonize the duplicate codes."
   ]
  },
  {
   "cell_type": "code",
   "execution_count": 11,
   "metadata": {},
   "outputs": [],
   "source": [
    "#Cleaning up EXCLTYPE as there are spaces at the end of some, making them look like a separate code but unsure how many spaces are at the end so harmonizing it\n",
    "leie['excl_type'] = leie['EXCLTYPE'].str[0:7]"
   ]
  },
  {
   "cell_type": "code",
   "execution_count": 12,
   "metadata": {},
   "outputs": [
    {
     "data": {
      "text/plain": [
       "1128b4     30629\n",
       "1128a1     20616\n",
       "1128a2      6900\n",
       "1128a3      4137\n",
       "1128a4      2849\n",
       "1128b14     2292\n",
       "1128b8      1492\n",
       "1128a1       911\n",
       "1128b1       831\n",
       "1128b5       810\n",
       "1128b7       612\n",
       "1128b3       310\n",
       "1128Aa       149\n",
       "1128a3       126\n",
       "1128a2        88\n",
       "1128b6        66\n",
       "1156          58\n",
       "1128b2        54\n",
       "1128b15       34\n",
       "1128b7        24\n",
       "1128b11       11\n",
       "BRCH SA       10\n",
       "1160           9\n",
       "BRCH CI        8\n",
       "1128b6         3\n",
       "1128b16        3\n",
       "1128b2         2\n",
       "1128a4         2\n",
       "1128b5         1\n",
       "1128b12        1\n",
       "1128b1         1\n",
       "Name: excl_type, dtype: int64"
      ]
     },
     "execution_count": 12,
     "metadata": {},
     "output_type": "execute_result"
    }
   ],
   "source": [
    "#checking new column that all values remain but now I know there is just one extra space for the duplicates\n",
    "leie['excl_type'].value_counts()"
   ]
  },
  {
   "cell_type": "code",
   "execution_count": 13,
   "metadata": {},
   "outputs": [
    {
     "data": {
      "text/plain": [
       "31"
      ]
     },
     "execution_count": 13,
     "metadata": {},
     "output_type": "execute_result"
    }
   ],
   "source": [
    "#Counting the types the system currently identifies\n",
    "leie['excl_type'].nunique()"
   ]
  },
  {
   "cell_type": "markdown",
   "metadata": {},
   "source": [
    "The following exlusion types are duplicated due to spaces at the end for some entries but not all: 1128a1, 1128a2, 1128a3, 1128a4, 1128b1, 1128b2, 1128b5, 1128b6, 1128b7. Will replace the those with spaces to entries without space."
   ]
  },
  {
   "cell_type": "code",
   "execution_count": 14,
   "metadata": {},
   "outputs": [],
   "source": [
    "#Replacing a exclusion type values with spaces to values with no spaces at the end\n",
    "leie.replace({'excl_type': {'1128a1 ': '1128a1', '1128a2 ': '1128a2', '1128a3 ': '1128a3', '1128a4 ': '1128a4'}}, inplace = True)"
   ]
  },
  {
   "cell_type": "code",
   "execution_count": 15,
   "metadata": {},
   "outputs": [],
   "source": [
    "#Replacing b exclusion type values with spaces to values with no spaces at the end\n",
    "leie.replace({'excl_type': {'1128b1 ': '1128b1', '1128b2 ': '1128b2', '1128b5 ': '1128b5', '1128b6 ': '1128b6', '1128b7 ': '1128b7'}}, inplace = True)"
   ]
  },
  {
   "cell_type": "code",
   "execution_count": 16,
   "metadata": {},
   "outputs": [
    {
     "data": {
      "text/plain": [
       "22"
      ]
     },
     "execution_count": 16,
     "metadata": {},
     "output_type": "execute_result"
    }
   ],
   "source": [
    "#checking fraud types are the correct values\n",
    "leie['excl_type'].nunique()"
   ]
  },
  {
   "cell_type": "code",
   "execution_count": 17,
   "metadata": {},
   "outputs": [
    {
     "data": {
      "text/plain": [
       "1128b4     30629\n",
       "1128a1     21527\n",
       "1128a2      6988\n",
       "1128a3      4263\n",
       "1128a4      2851\n",
       "1128b14     2292\n",
       "1128b8      1492\n",
       "1128b1       832\n",
       "1128b5       811\n",
       "1128b7       636\n",
       "1128b3       310\n",
       "1128Aa       149\n",
       "1128b6        69\n",
       "1156          58\n",
       "1128b2        56\n",
       "1128b15       34\n",
       "1128b11       11\n",
       "BRCH SA       10\n",
       "1160           9\n",
       "BRCH CI        8\n",
       "1128b16        3\n",
       "1128b12        1\n",
       "Name: excl_type, dtype: int64"
      ]
     },
     "execution_count": 17,
     "metadata": {},
     "output_type": "execute_result"
    }
   ],
   "source": [
    "#Ensuring no more duplicate values\n",
    "leie['excl_type'].value_counts()"
   ]
  },
  {
   "cell_type": "code",
   "execution_count": 18,
   "metadata": {},
   "outputs": [],
   "source": [
    "#Filtering to only exclusions 2011 and after since the Affordable Care Act was enacted in 2010 and Medicare rules changed so we will only look at data after 2010\n",
    "ge_2011 = leie['EXCLYear'] > 2010\n",
    "leie_2011 = leie[ge_2011]"
   ]
  },
  {
   "cell_type": "code",
   "execution_count": 19,
   "metadata": {},
   "outputs": [
    {
     "data": {
      "text/plain": [
       "2016    3763\n",
       "2015    3680\n",
       "2014    3498\n",
       "2017    3108\n",
       "2013    3099\n",
       "2012    3057\n",
       "2018    2699\n",
       "2019    2477\n",
       "2011    2390\n",
       "2020     519\n",
       "Name: EXCLYear, dtype: int64"
      ]
     },
     "execution_count": 19,
     "metadata": {},
     "output_type": "execute_result"
    }
   ],
   "source": [
    "#Checking filter\n",
    "leie_2011['EXCLYear'].value_counts()"
   ]
  },
  {
   "cell_type": "markdown",
   "metadata": {},
   "source": [
    "This filtering will most likely be our dataset to combine with the provider information so will look at some summary stats to understand it better"
   ]
  },
  {
   "cell_type": "code",
   "execution_count": 20,
   "metadata": {},
   "outputs": [
    {
     "data": {
      "text/plain": [
       "(28290, 12)"
      ]
     },
     "execution_count": 20,
     "metadata": {},
     "output_type": "execute_result"
    }
   ],
   "source": [
    "leie_2011.shape"
   ]
  },
  {
   "cell_type": "code",
   "execution_count": 21,
   "metadata": {},
   "outputs": [
    {
     "data": {
      "text/html": [
       "<div>\n",
       "<style scoped>\n",
       "    .dataframe tbody tr th:only-of-type {\n",
       "        vertical-align: middle;\n",
       "    }\n",
       "\n",
       "    .dataframe tbody tr th {\n",
       "        vertical-align: top;\n",
       "    }\n",
       "\n",
       "    .dataframe thead th {\n",
       "        text-align: right;\n",
       "    }\n",
       "</style>\n",
       "<table border=\"1\" class=\"dataframe\">\n",
       "  <thead>\n",
       "    <tr style=\"text-align: right;\">\n",
       "      <th></th>\n",
       "      <th>LASTNAME</th>\n",
       "      <th>FIRSTNAME</th>\n",
       "      <th>BUSNAME</th>\n",
       "      <th>SPECIALTY</th>\n",
       "      <th>NPI</th>\n",
       "      <th>DOB</th>\n",
       "      <th>CITY</th>\n",
       "      <th>STATE</th>\n",
       "      <th>EXCLTYPE</th>\n",
       "      <th>EXCLDATE</th>\n",
       "      <th>EXCLYear</th>\n",
       "      <th>excl_type</th>\n",
       "    </tr>\n",
       "  </thead>\n",
       "  <tbody>\n",
       "    <tr>\n",
       "      <th>0</th>\n",
       "      <td>NaN</td>\n",
       "      <td>NaN</td>\n",
       "      <td>#1 MARKETING SERVICE, INC</td>\n",
       "      <td>SOBER HOME</td>\n",
       "      <td>0</td>\n",
       "      <td>NaN</td>\n",
       "      <td>BROOKLYN</td>\n",
       "      <td>NY</td>\n",
       "      <td>1128a1</td>\n",
       "      <td>20200319</td>\n",
       "      <td>2020</td>\n",
       "      <td>1128a1</td>\n",
       "    </tr>\n",
       "    <tr>\n",
       "      <th>3</th>\n",
       "      <td>NaN</td>\n",
       "      <td>NaN</td>\n",
       "      <td>184TH STREET PHARMACY CORP</td>\n",
       "      <td>PHARMACY</td>\n",
       "      <td>1922348218</td>\n",
       "      <td>NaN</td>\n",
       "      <td>BRONX</td>\n",
       "      <td>NY</td>\n",
       "      <td>1128a1</td>\n",
       "      <td>20180419</td>\n",
       "      <td>2018</td>\n",
       "      <td>1128a1</td>\n",
       "    </tr>\n",
       "    <tr>\n",
       "      <th>7</th>\n",
       "      <td>NaN</td>\n",
       "      <td>NaN</td>\n",
       "      <td>2001 BATH AVENUE PHARMACY INC</td>\n",
       "      <td>PHARMACY</td>\n",
       "      <td>0</td>\n",
       "      <td>NaN</td>\n",
       "      <td>BROOKLYN</td>\n",
       "      <td>NY</td>\n",
       "      <td>1128a1</td>\n",
       "      <td>20110818</td>\n",
       "      <td>2011</td>\n",
       "      <td>1128a1</td>\n",
       "    </tr>\n",
       "    <tr>\n",
       "      <th>12</th>\n",
       "      <td>NaN</td>\n",
       "      <td>NaN</td>\n",
       "      <td>716 TRANSPORTATION, INC</td>\n",
       "      <td>TRANSPORTATION CO</td>\n",
       "      <td>0</td>\n",
       "      <td>NaN</td>\n",
       "      <td>BUFFALO</td>\n",
       "      <td>NY</td>\n",
       "      <td>1128a1</td>\n",
       "      <td>20190620</td>\n",
       "      <td>2019</td>\n",
       "      <td>1128a1</td>\n",
       "    </tr>\n",
       "    <tr>\n",
       "      <th>19</th>\n",
       "      <td>NaN</td>\n",
       "      <td>NaN</td>\n",
       "      <td>A &amp; H VITAMINS SUPPLY CORP</td>\n",
       "      <td>PHARMACY</td>\n",
       "      <td>0</td>\n",
       "      <td>NaN</td>\n",
       "      <td>TEANECK</td>\n",
       "      <td>NJ</td>\n",
       "      <td>1128a1</td>\n",
       "      <td>20180419</td>\n",
       "      <td>2018</td>\n",
       "      <td>1128a1</td>\n",
       "    </tr>\n",
       "  </tbody>\n",
       "</table>\n",
       "</div>"
      ],
      "text/plain": [
       "   LASTNAME FIRSTNAME                        BUSNAME          SPECIALTY  \\\n",
       "0       NaN       NaN      #1 MARKETING SERVICE, INC         SOBER HOME   \n",
       "3       NaN       NaN     184TH STREET PHARMACY CORP           PHARMACY   \n",
       "7       NaN       NaN  2001 BATH AVENUE PHARMACY INC           PHARMACY   \n",
       "12      NaN       NaN        716 TRANSPORTATION, INC  TRANSPORTATION CO   \n",
       "19      NaN       NaN     A & H VITAMINS SUPPLY CORP           PHARMACY   \n",
       "\n",
       "           NPI  DOB      CITY STATE EXCLTYPE  EXCLDATE  EXCLYear excl_type  \n",
       "0            0  NaN  BROOKLYN    NY   1128a1  20200319      2020    1128a1  \n",
       "3   1922348218  NaN     BRONX    NY   1128a1  20180419      2018    1128a1  \n",
       "7            0  NaN  BROOKLYN    NY   1128a1  20110818      2011    1128a1  \n",
       "12           0  NaN   BUFFALO    NY   1128a1  20190620      2019    1128a1  \n",
       "19           0  NaN   TEANECK    NJ   1128a1  20180419      2018    1128a1  "
      ]
     },
     "execution_count": 21,
     "metadata": {},
     "output_type": "execute_result"
    }
   ],
   "source": [
    "leie_2011.head()"
   ]
  },
  {
   "cell_type": "code",
   "execution_count": 22,
   "metadata": {},
   "outputs": [],
   "source": [
    "#Remove unneeded columns that will not factor into analysis or used as a primary key\n",
    "leie_2011_clean = leie_2011.drop(['EXCLDATE', 'EXCLTYPE'], axis = 1)"
   ]
  },
  {
   "cell_type": "code",
   "execution_count": 23,
   "metadata": {},
   "outputs": [
    {
     "data": {
      "text/plain": [
       "LASTNAME       451\n",
       "FIRSTNAME      451\n",
       "BUSNAME      27841\n",
       "SPECIALTY      101\n",
       "NPI              0\n",
       "DOB            473\n",
       "CITY             0\n",
       "STATE            0\n",
       "EXCLYear         0\n",
       "excl_type        0\n",
       "dtype: int64"
      ]
     },
     "execution_count": 23,
     "metadata": {},
     "output_type": "execute_result"
    }
   ],
   "source": [
    "#Looking at null values\n",
    "leie_2011_clean.isnull().sum()"
   ]
  },
  {
   "cell_type": "code",
   "execution_count": 24,
   "metadata": {},
   "outputs": [
    {
     "data": {
      "image/png": "[encoded data removed]",
      "text/plain": [
       "<Figure size 504x720 with 1 Axes>"
      ]
     },
     "metadata": {
      "needs_background": "light"
     },
     "output_type": "display_data"
    }
   ],
   "source": [
    "#Number of exclusions based on frauds per year\n",
    "fig = plt.figure(figsize=(7,10))\n",
    "ax = fig.add_subplot(211)\n",
    "ax.hist(leie_2011_clean['EXCLYear'], bins=10, range=(leie_2011_clean['EXCLYear'].min(),leie_2011_clean['EXCLYear'].max()))\n",
    "plt.title('Number of Medicare Exclusions Per Year')\n",
    "plt.xlabel('Year of Exclusion')\n",
    "plt.ylabel('Number of Exclusions')\n",
    "plt.show()"
   ]
  },
  {
   "cell_type": "code",
   "execution_count": 25,
   "metadata": {},
   "outputs": [
    {
     "data": {
      "text/plain": [
       "CA    3149\n",
       "FL    3056\n",
       "TX    1994\n",
       "OH    1493\n",
       "NY    1396\n",
       "PA    1130\n",
       "IL     919\n",
       "AZ     870\n",
       "NC     786\n",
       "LA     727\n",
       "AL     693\n",
       "TN     672\n",
       "MS     647\n",
       "KY     638\n",
       "OK     600\n",
       "IN     589\n",
       "MA     589\n",
       "OR     468\n",
       "GA     443\n",
       "WA     440\n",
       "AR     424\n",
       "MN     416\n",
       "WV     390\n",
       "MI     390\n",
       "IA     389\n",
       "CO     387\n",
       "VA     384\n",
       "MO     372\n",
       "NJ     338\n",
       "WI     277\n",
       "UT     265\n",
       "KS     257\n",
       "ME     250\n",
       "MD     247\n",
       "NV     227\n",
       "SC     214\n",
       "CT     212\n",
       "VT     181\n",
       "AK     162\n",
       "RI     156\n",
       "NH     131\n",
       "ID     125\n",
       "NE     122\n",
       "PR      92\n",
       "NM      90\n",
       "DE      86\n",
       "WY      84\n",
       "ND      81\n",
       "SD      80\n",
       "MT      78\n",
       "HI      54\n",
       "DC      16\n",
       "XX      10\n",
       "FM       2\n",
       "GU       1\n",
       "VI       1\n",
       "Name: STATE, dtype: int64"
      ]
     },
     "execution_count": 25,
     "metadata": {},
     "output_type": "execute_result"
    }
   ],
   "source": [
    "#Exploring most common states excluded\n",
    "leie_2011_clean['STATE'].value_counts()"
   ]
  },
  {
   "cell_type": "code",
   "execution_count": 26,
   "metadata": {},
   "outputs": [
    {
     "data": {
      "text/html": [
       "<div>\n",
       "<style scoped>\n",
       "    .dataframe tbody tr th:only-of-type {\n",
       "        vertical-align: middle;\n",
       "    }\n",
       "\n",
       "    .dataframe tbody tr th {\n",
       "        vertical-align: top;\n",
       "    }\n",
       "\n",
       "    .dataframe thead th {\n",
       "        text-align: right;\n",
       "    }\n",
       "</style>\n",
       "<table border=\"1\" class=\"dataframe\">\n",
       "  <thead>\n",
       "    <tr style=\"text-align: right;\">\n",
       "      <th>excl_type</th>\n",
       "      <th>1128Aa</th>\n",
       "      <th>1128a1</th>\n",
       "      <th>1128a2</th>\n",
       "      <th>1128a3</th>\n",
       "      <th>1128a4</th>\n",
       "      <th>1128b1</th>\n",
       "      <th>1128b14</th>\n",
       "      <th>1128b15</th>\n",
       "      <th>1128b16</th>\n",
       "      <th>1128b2</th>\n",
       "      <th>1128b3</th>\n",
       "      <th>1128b4</th>\n",
       "      <th>1128b5</th>\n",
       "      <th>1128b6</th>\n",
       "      <th>1128b7</th>\n",
       "      <th>1128b8</th>\n",
       "      <th>1156</th>\n",
       "      <th>BRCH CI</th>\n",
       "      <th>BRCH SA</th>\n",
       "    </tr>\n",
       "    <tr>\n",
       "      <th>EXCLYear</th>\n",
       "      <th></th>\n",
       "      <th></th>\n",
       "      <th></th>\n",
       "      <th></th>\n",
       "      <th></th>\n",
       "      <th></th>\n",
       "      <th></th>\n",
       "      <th></th>\n",
       "      <th></th>\n",
       "      <th></th>\n",
       "      <th></th>\n",
       "      <th></th>\n",
       "      <th></th>\n",
       "      <th></th>\n",
       "      <th></th>\n",
       "      <th></th>\n",
       "      <th></th>\n",
       "      <th></th>\n",
       "      <th></th>\n",
       "    </tr>\n",
       "  </thead>\n",
       "  <tbody>\n",
       "    <tr>\n",
       "      <th>2011</th>\n",
       "      <td>1.0</td>\n",
       "      <td>942.0</td>\n",
       "      <td>196.0</td>\n",
       "      <td>204.0</td>\n",
       "      <td>111.0</td>\n",
       "      <td>6.0</td>\n",
       "      <td>56.0</td>\n",
       "      <td>3.0</td>\n",
       "      <td>NaN</td>\n",
       "      <td>3.0</td>\n",
       "      <td>1.0</td>\n",
       "      <td>816.0</td>\n",
       "      <td>22.0</td>\n",
       "      <td>NaN</td>\n",
       "      <td>9.0</td>\n",
       "      <td>20.0</td>\n",
       "      <td>NaN</td>\n",
       "      <td>NaN</td>\n",
       "      <td>NaN</td>\n",
       "    </tr>\n",
       "    <tr>\n",
       "      <th>2012</th>\n",
       "      <td>NaN</td>\n",
       "      <td>936.0</td>\n",
       "      <td>215.0</td>\n",
       "      <td>274.0</td>\n",
       "      <td>97.0</td>\n",
       "      <td>16.0</td>\n",
       "      <td>50.0</td>\n",
       "      <td>1.0</td>\n",
       "      <td>2.0</td>\n",
       "      <td>2.0</td>\n",
       "      <td>1.0</td>\n",
       "      <td>1414.0</td>\n",
       "      <td>16.0</td>\n",
       "      <td>NaN</td>\n",
       "      <td>22.0</td>\n",
       "      <td>11.0</td>\n",
       "      <td>NaN</td>\n",
       "      <td>NaN</td>\n",
       "      <td>NaN</td>\n",
       "    </tr>\n",
       "    <tr>\n",
       "      <th>2013</th>\n",
       "      <td>NaN</td>\n",
       "      <td>1084.0</td>\n",
       "      <td>156.0</td>\n",
       "      <td>275.0</td>\n",
       "      <td>158.0</td>\n",
       "      <td>32.0</td>\n",
       "      <td>27.0</td>\n",
       "      <td>NaN</td>\n",
       "      <td>NaN</td>\n",
       "      <td>3.0</td>\n",
       "      <td>2.0</td>\n",
       "      <td>1321.0</td>\n",
       "      <td>15.0</td>\n",
       "      <td>NaN</td>\n",
       "      <td>21.0</td>\n",
       "      <td>5.0</td>\n",
       "      <td>NaN</td>\n",
       "      <td>NaN</td>\n",
       "      <td>NaN</td>\n",
       "    </tr>\n",
       "    <tr>\n",
       "      <th>2014</th>\n",
       "      <td>1.0</td>\n",
       "      <td>1301.0</td>\n",
       "      <td>225.0</td>\n",
       "      <td>335.0</td>\n",
       "      <td>146.0</td>\n",
       "      <td>36.0</td>\n",
       "      <td>38.0</td>\n",
       "      <td>NaN</td>\n",
       "      <td>1.0</td>\n",
       "      <td>4.0</td>\n",
       "      <td>2.0</td>\n",
       "      <td>1338.0</td>\n",
       "      <td>46.0</td>\n",
       "      <td>1.0</td>\n",
       "      <td>14.0</td>\n",
       "      <td>8.0</td>\n",
       "      <td>NaN</td>\n",
       "      <td>1.0</td>\n",
       "      <td>1.0</td>\n",
       "    </tr>\n",
       "    <tr>\n",
       "      <th>2015</th>\n",
       "      <td>NaN</td>\n",
       "      <td>1127.0</td>\n",
       "      <td>293.0</td>\n",
       "      <td>324.0</td>\n",
       "      <td>190.0</td>\n",
       "      <td>51.0</td>\n",
       "      <td>8.0</td>\n",
       "      <td>NaN</td>\n",
       "      <td>NaN</td>\n",
       "      <td>2.0</td>\n",
       "      <td>3.0</td>\n",
       "      <td>1595.0</td>\n",
       "      <td>38.0</td>\n",
       "      <td>NaN</td>\n",
       "      <td>40.0</td>\n",
       "      <td>6.0</td>\n",
       "      <td>NaN</td>\n",
       "      <td>3.0</td>\n",
       "      <td>NaN</td>\n",
       "    </tr>\n",
       "    <tr>\n",
       "      <th>2016</th>\n",
       "      <td>2.0</td>\n",
       "      <td>1412.0</td>\n",
       "      <td>283.0</td>\n",
       "      <td>243.0</td>\n",
       "      <td>153.0</td>\n",
       "      <td>42.0</td>\n",
       "      <td>52.0</td>\n",
       "      <td>NaN</td>\n",
       "      <td>NaN</td>\n",
       "      <td>1.0</td>\n",
       "      <td>7.0</td>\n",
       "      <td>1484.0</td>\n",
       "      <td>49.0</td>\n",
       "      <td>NaN</td>\n",
       "      <td>25.0</td>\n",
       "      <td>4.0</td>\n",
       "      <td>1.0</td>\n",
       "      <td>NaN</td>\n",
       "      <td>5.0</td>\n",
       "    </tr>\n",
       "    <tr>\n",
       "      <th>2017</th>\n",
       "      <td>NaN</td>\n",
       "      <td>1294.0</td>\n",
       "      <td>255.0</td>\n",
       "      <td>245.0</td>\n",
       "      <td>187.0</td>\n",
       "      <td>49.0</td>\n",
       "      <td>25.0</td>\n",
       "      <td>3.0</td>\n",
       "      <td>NaN</td>\n",
       "      <td>2.0</td>\n",
       "      <td>12.0</td>\n",
       "      <td>896.0</td>\n",
       "      <td>94.0</td>\n",
       "      <td>2.0</td>\n",
       "      <td>31.0</td>\n",
       "      <td>12.0</td>\n",
       "      <td>1.0</td>\n",
       "      <td>NaN</td>\n",
       "      <td>NaN</td>\n",
       "    </tr>\n",
       "    <tr>\n",
       "      <th>2018</th>\n",
       "      <td>NaN</td>\n",
       "      <td>1017.0</td>\n",
       "      <td>214.0</td>\n",
       "      <td>229.0</td>\n",
       "      <td>131.0</td>\n",
       "      <td>32.0</td>\n",
       "      <td>32.0</td>\n",
       "      <td>NaN</td>\n",
       "      <td>NaN</td>\n",
       "      <td>1.0</td>\n",
       "      <td>4.0</td>\n",
       "      <td>977.0</td>\n",
       "      <td>20.0</td>\n",
       "      <td>2.0</td>\n",
       "      <td>29.0</td>\n",
       "      <td>8.0</td>\n",
       "      <td>NaN</td>\n",
       "      <td>1.0</td>\n",
       "      <td>2.0</td>\n",
       "    </tr>\n",
       "    <tr>\n",
       "      <th>2019</th>\n",
       "      <td>NaN</td>\n",
       "      <td>1176.0</td>\n",
       "      <td>229.0</td>\n",
       "      <td>309.0</td>\n",
       "      <td>181.0</td>\n",
       "      <td>34.0</td>\n",
       "      <td>22.0</td>\n",
       "      <td>1.0</td>\n",
       "      <td>NaN</td>\n",
       "      <td>NaN</td>\n",
       "      <td>4.0</td>\n",
       "      <td>471.0</td>\n",
       "      <td>20.0</td>\n",
       "      <td>2.0</td>\n",
       "      <td>23.0</td>\n",
       "      <td>4.0</td>\n",
       "      <td>NaN</td>\n",
       "      <td>1.0</td>\n",
       "      <td>NaN</td>\n",
       "    </tr>\n",
       "    <tr>\n",
       "      <th>2020</th>\n",
       "      <td>NaN</td>\n",
       "      <td>208.0</td>\n",
       "      <td>68.0</td>\n",
       "      <td>75.0</td>\n",
       "      <td>54.0</td>\n",
       "      <td>9.0</td>\n",
       "      <td>5.0</td>\n",
       "      <td>NaN</td>\n",
       "      <td>NaN</td>\n",
       "      <td>1.0</td>\n",
       "      <td>5.0</td>\n",
       "      <td>92.0</td>\n",
       "      <td>1.0</td>\n",
       "      <td>NaN</td>\n",
       "      <td>1.0</td>\n",
       "      <td>NaN</td>\n",
       "      <td>NaN</td>\n",
       "      <td>NaN</td>\n",
       "      <td>NaN</td>\n",
       "    </tr>\n",
       "  </tbody>\n",
       "</table>\n",
       "</div>"
      ],
      "text/plain": [
       "excl_type  1128Aa  1128a1  1128a2  1128a3  1128a4  1128b1  1128b14  1128b15  \\\n",
       "EXCLYear                                                                      \n",
       "2011          1.0   942.0   196.0   204.0   111.0     6.0     56.0      3.0   \n",
       "2012          NaN   936.0   215.0   274.0    97.0    16.0     50.0      1.0   \n",
       "2013          NaN  1084.0   156.0   275.0   158.0    32.0     27.0      NaN   \n",
       "2014          1.0  1301.0   225.0   335.0   146.0    36.0     38.0      NaN   \n",
       "2015          NaN  1127.0   293.0   324.0   190.0    51.0      8.0      NaN   \n",
       "2016          2.0  1412.0   283.0   243.0   153.0    42.0     52.0      NaN   \n",
       "2017          NaN  1294.0   255.0   245.0   187.0    49.0     25.0      3.0   \n",
       "2018          NaN  1017.0   214.0   229.0   131.0    32.0     32.0      NaN   \n",
       "2019          NaN  1176.0   229.0   309.0   181.0    34.0     22.0      1.0   \n",
       "2020          NaN   208.0    68.0    75.0    54.0     9.0      5.0      NaN   \n",
       "\n",
       "excl_type  1128b16  1128b2  1128b3  1128b4  1128b5  1128b6  1128b7  1128b8  \\\n",
       "EXCLYear                                                                     \n",
       "2011           NaN     3.0     1.0   816.0    22.0     NaN     9.0    20.0   \n",
       "2012           2.0     2.0     1.0  1414.0    16.0     NaN    22.0    11.0   \n",
       "2013           NaN     3.0     2.0  1321.0    15.0     NaN    21.0     5.0   \n",
       "2014           1.0     4.0     2.0  1338.0    46.0     1.0    14.0     8.0   \n",
       "2015           NaN     2.0     3.0  1595.0    38.0     NaN    40.0     6.0   \n",
       "2016           NaN     1.0     7.0  1484.0    49.0     NaN    25.0     4.0   \n",
       "2017           NaN     2.0    12.0   896.0    94.0     2.0    31.0    12.0   \n",
       "2018           NaN     1.0     4.0   977.0    20.0     2.0    29.0     8.0   \n",
       "2019           NaN     NaN     4.0   471.0    20.0     2.0    23.0     4.0   \n",
       "2020           NaN     1.0     5.0    92.0     1.0     NaN     1.0     NaN   \n",
       "\n",
       "excl_type  1156  BRCH CI  BRCH SA  \n",
       "EXCLYear                           \n",
       "2011        NaN      NaN      NaN  \n",
       "2012        NaN      NaN      NaN  \n",
       "2013        NaN      NaN      NaN  \n",
       "2014        NaN      1.0      1.0  \n",
       "2015        NaN      3.0      NaN  \n",
       "2016        1.0      NaN      5.0  \n",
       "2017        1.0      NaN      NaN  \n",
       "2018        NaN      1.0      2.0  \n",
       "2019        NaN      1.0      NaN  \n",
       "2020        NaN      NaN      NaN  "
      ]
     },
     "execution_count": 26,
     "metadata": {},
     "output_type": "execute_result"
    }
   ],
   "source": [
    "#Looking at types of exclusions per year\n",
    "excltype_years = pd.pivot_table(leie_2011_clean, 'NPI', index='EXCLYear', columns ='excl_type', aggfunc='count')\n",
    "excltype_years.head(10)"
   ]
  },
  {
   "cell_type": "code",
   "execution_count": 27,
   "metadata": {},
   "outputs": [],
   "source": [
    "#Saving file as a new CSV as this is what the team will work on moving forward\n",
    "leie_2011_clean.to_csv('LEIE_filtered.csv', index=False)"
   ]
  }
 ],
 "metadata": {
  "kernelspec": {
   "display_name": "Python 3",
   "language": "python",
   "name": "python3"
  },
  "language_info": {
   "codemirror_mode": {
    "name": "ipython",
    "version": 3
   },
   "file_extension": ".py",
   "mimetype": "text/x-python",
   "name": "python",
   "nbconvert_exporter": "python",
   "pygments_lexer": "ipython3",
   "version": "3.7.4"
  }
 },
 "nbformat": 4,
 "nbformat_minor": 4
}
