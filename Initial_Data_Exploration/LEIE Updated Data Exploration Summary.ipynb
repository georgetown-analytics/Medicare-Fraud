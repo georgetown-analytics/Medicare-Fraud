{
 "cells": [
  {
   "cell_type": "code",
   "execution_count": 1,
   "metadata": {},
   "outputs": [],
   "source": [
    "# importing packages\n",
    "import numpy as np\n",
    "import pandas as pd"
   ]
  },
  {
   "cell_type": "code",
   "execution_count": 2,
   "metadata": {},
   "outputs": [],
   "source": [
    "# reading in LEIE_updated\n",
    "leie_updated = pd.read_csv('s3://leie-updated/UPDATED.csv', dtype=object)"
   ]
  },
  {
   "cell_type": "markdown",
   "metadata": {},
   "source": [
    "Exploring the data's structure including the column names, the number of rows and columns, the number of unique values and the number of null values"
   ]
  },
  {
   "cell_type": "code",
   "execution_count": 3,
   "metadata": {},
   "outputs": [
    {
     "data": {
      "text/plain": [
       "Index(['LASTNAME', 'FIRSTNAME', 'MIDNAME', 'BUSNAME', 'GENERAL', 'SPECIALTY',\n",
       "       'UPIN', 'NPI', 'DOB', 'ADDRESS', 'CITY', 'STATE', 'ZIP', 'EXCLTYPE',\n",
       "       'EXCLDATE', 'REINDATE', 'WAIVERDATE', 'WVRSTATE'],\n",
       "      dtype='object')"
      ]
     },
     "execution_count": 3,
     "metadata": {},
     "output_type": "execute_result"
    }
   ],
   "source": [
    "leie_updated.columns"
   ]
  },
  {
   "cell_type": "code",
   "execution_count": 4,
   "metadata": {},
   "outputs": [
    {
     "data": {
      "text/plain": [
       "(72899, 18)"
      ]
     },
     "execution_count": 4,
     "metadata": {},
     "output_type": "execute_result"
    }
   ],
   "source": [
    "leie_updated.shape"
   ]
  },
  {
   "cell_type": "code",
   "execution_count": 5,
   "metadata": {},
   "outputs": [
    {
     "name": "stdout",
     "output_type": "stream",
     "text": [
      "LASTNAME      object\n",
      "FIRSTNAME     object\n",
      "MIDNAME       object\n",
      "BUSNAME       object\n",
      "GENERAL       object\n",
      "SPECIALTY     object\n",
      "UPIN          object\n",
      "NPI           object\n",
      "DOB           object\n",
      "ADDRESS       object\n",
      "CITY          object\n",
      "STATE         object\n",
      "ZIP           object\n",
      "EXCLTYPE      object\n",
      "EXCLDATE      object\n",
      "REINDATE      object\n",
      "WAIVERDATE    object\n",
      "WVRSTATE      object\n",
      "dtype: object\n"
     ]
    }
   ],
   "source": [
    "print(leie_updated.dtypes)"
   ]
  },
  {
   "cell_type": "code",
   "execution_count": 6,
   "metadata": {},
   "outputs": [
    {
     "data": {
      "text/plain": [
       "LASTNAME      28296\n",
       "FIRSTNAME     11218\n",
       "MIDNAME        8250\n",
       "BUSNAME        3069\n",
       "GENERAL          87\n",
       "SPECIALTY       193\n",
       "UPIN           6123\n",
       "NPI            5277\n",
       "DOB           20606\n",
       "ADDRESS       68969\n",
       "CITY           9789\n",
       "STATE            60\n",
       "ZIP           17179\n",
       "EXCLTYPE         31\n",
       "EXCLDATE       2274\n",
       "REINDATE          1\n",
       "WAIVERDATE       16\n",
       "WVRSTATE         10\n",
       "dtype: int64"
      ]
     },
     "execution_count": 6,
     "metadata": {},
     "output_type": "execute_result"
    }
   ],
   "source": [
    "leie_updated.nunique()"
   ]
  },
  {
   "cell_type": "code",
   "execution_count": 7,
   "metadata": {},
   "outputs": [
    {
     "data": {
      "text/plain": [
       "LASTNAME       3128\n",
       "FIRSTNAME      3127\n",
       "MIDNAME           0\n",
       "BUSNAME       69774\n",
       "GENERAL           0\n",
       "SPECIALTY      4191\n",
       "UPIN          66600\n",
       "NPI               0\n",
       "DOB            3993\n",
       "ADDRESS           9\n",
       "CITY              1\n",
       "STATE             5\n",
       "ZIP               0\n",
       "EXCLTYPE          0\n",
       "EXCLDATE          0\n",
       "REINDATE          0\n",
       "WAIVERDATE        0\n",
       "WVRSTATE      72886\n",
       "dtype: int64"
      ]
     },
     "execution_count": 7,
     "metadata": {},
     "output_type": "execute_result"
    }
   ],
   "source": [
    "leie_updated.isnull().sum()"
   ]
  },
  {
   "cell_type": "code",
   "execution_count": 8,
   "metadata": {},
   "outputs": [
    {
     "data": {
      "text/plain": [
       "0000000000    67515\n",
       "1225072028        3\n",
       "1801839139        3\n",
       "1811058282        2\n",
       "1326021098        2\n",
       "              ...  \n",
       "1437467461        1\n",
       "1548251788        1\n",
       "1487737243        1\n",
       "1992030050        1\n",
       "1093892119        1\n",
       "Name: NPI, Length: 5277, dtype: int64"
      ]
     },
     "execution_count": 8,
     "metadata": {},
     "output_type": "execute_result"
    }
   ],
   "source": [
    "leie_updated['NPI'].value_counts()"
   ]
  },
  {
   "cell_type": "markdown",
   "metadata": {},
   "source": [
    "Noting that there are 67,515 out of 72,899 NPI values equal to 0. While there are no null values, since only 5,277 are unique, it seems like 0 is used when a NPI doesn't exist. We were planning on using this as our primary key to connect across data sets so researched why so many of these could be 0. According to the Medicare data website, this was not a required identifier for providers until 2008. Instead, UPIN had been used previously so also explored those values even though the above shows a lot of null values for those as well. "
   ]
  },
  {
   "cell_type": "code",
   "execution_count": 9,
   "metadata": {},
   "outputs": [
    {
     "data": {
      "text/plain": [
       "A73915    3\n",
       "T55450    3\n",
       "A77906    3\n",
       "D63434    3\n",
       "T28092    3\n",
       "         ..\n",
       "D66736    1\n",
       "D23628    1\n",
       "U43627    1\n",
       "C49303    1\n",
       "B01124    1\n",
       "Name: UPIN, Length: 6123, dtype: int64"
      ]
     },
     "execution_count": 9,
     "metadata": {},
     "output_type": "execute_result"
    }
   ],
   "source": [
    "leie_updated['UPIN'].value_counts()"
   ]
  },
  {
   "cell_type": "code",
   "execution_count": 10,
   "metadata": {},
   "outputs": [
    {
     "data": {
      "text/plain": [
       "NURSE/NURSES AIDE       31984\n",
       "OWNER/OPERATOR           3327\n",
       "HEALTH CARE AIDE         2963\n",
       "NO KNOWN AFFILIATION     2014\n",
       "CHIROPRACTIC             1989\n",
       "                        ...  \n",
       "TEACHER                     1\n",
       "EMPLOYEE - GM/GS-15         1\n",
       "EMPLOYEE - COMM OFFI        1\n",
       "MEDICARE PART D CONT        1\n",
       "PRINTING FIRM               1\n",
       "Name: SPECIALTY, Length: 193, dtype: int64"
      ]
     },
     "execution_count": 10,
     "metadata": {},
     "output_type": "execute_result"
    }
   ],
   "source": [
    "# Specialty might be useful in our future analysis\n",
    "leie_updated['SPECIALTY'].value_counts()"
   ]
  },
  {
   "cell_type": "code",
   "execution_count": 11,
   "metadata": {},
   "outputs": [
    {
     "data": {
      "text/plain": [
       "1128b4       30619\n",
       "1128a1       20554\n",
       "1128a2        6877\n",
       "1128a3        4124\n",
       "1128a4        2824\n",
       "1128b14       2296\n",
       "1128b8        1492\n",
       "1128a1         903\n",
       "1128b1         829\n",
       "1128b5         810\n",
       "1128b7         613\n",
       "1128b3         308\n",
       "1128Aa         149\n",
       "1128a3         126\n",
       "1128a2          88\n",
       "1128b6          66\n",
       "1156            58\n",
       "1128b2          54\n",
       "1128b15         34\n",
       "1128b7          24\n",
       "1128b11         11\n",
       "BRCH SA         10\n",
       "1160             9\n",
       "BRCH CIA         8\n",
       "1128b16          3\n",
       "1128b6           3\n",
       "1128b2           2\n",
       "1128a4           2\n",
       "1128b1           1\n",
       "1128b12          1\n",
       "1128b5           1\n",
       "Name: EXCLTYPE, dtype: int64"
      ]
     },
     "execution_count": 11,
     "metadata": {},
     "output_type": "execute_result"
    }
   ],
   "source": [
    "#exploring exclusion type column\n",
    "leie_updated['EXCLTYPE'].value_counts()"
   ]
  },
  {
   "cell_type": "markdown",
   "metadata": {},
   "source": [
    "Will need to look up the coding for the type of exclusions "
   ]
  },
  {
   "cell_type": "code",
   "execution_count": 12,
   "metadata": {},
   "outputs": [
    {
     "data": {
      "text/plain": [
       "'19770701'"
      ]
     },
     "execution_count": 12,
     "metadata": {},
     "output_type": "execute_result"
    }
   ],
   "source": [
    "#looking at the date range for exclusions\n",
    "leie_updated['EXCLDATE'].min()"
   ]
  },
  {
   "cell_type": "code",
   "execution_count": 13,
   "metadata": {},
   "outputs": [
    {
     "data": {
      "text/plain": [
       "'20200220'"
      ]
     },
     "execution_count": 13,
     "metadata": {},
     "output_type": "execute_result"
    }
   ],
   "source": [
    "leie_updated['EXCLDATE'].max()"
   ]
  },
  {
   "cell_type": "markdown",
   "metadata": {},
   "source": [
    "Per the website where we pulled the data, this updated LEIE is a complete database containing all exclusions currently in effect. Individuals and entities who have been reinstated are not included in this file. This file is complete and should not be used in conjunction with the monthly exclusion and reinstatement supplements. Therefore, we most likely should just focus mostly on this dataset instead of the monthly update data. It appears to go back to exclusions in 1977, which due to changes in Medicare policies, we will need to think about how far back we want to go because looking at data from the 70s might could throw off our modeling. Due to the NPI change in 2008, we will most likely want to filter the data only back to 2008 or even more recent. "
   ]
  }
 ],
 "metadata": {
  "kernelspec": {
   "display_name": "Python 3",
   "language": "python",
   "name": "python3"
  },
  "language_info": {
   "codemirror_mode": {
    "name": "ipython",
    "version": 3
   },
   "file_extension": ".py",
   "mimetype": "text/x-python",
   "name": "python",
   "nbconvert_exporter": "python",
   "pygments_lexer": "ipython3",
   "version": "3.7.4"
  }
 },
 "nbformat": 4,
 "nbformat_minor": 4
}
