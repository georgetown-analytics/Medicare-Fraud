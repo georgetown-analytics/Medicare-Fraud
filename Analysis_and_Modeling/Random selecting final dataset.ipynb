{
 "cells": [
  {
   "cell_type": "code",
   "execution_count": 1,
   "metadata": {},
   "outputs": [],
   "source": [
    "import numpy as np\n",
    "import pandas as pd "
   ]
  },
  {
   "cell_type": "code",
   "execution_count": 2,
   "metadata": {},
   "outputs": [
    {
     "data": {
      "text/html": [
       "<div>\n",
       "<style scoped>\n",
       "    .dataframe tbody tr th:only-of-type {\n",
       "        vertical-align: middle;\n",
       "    }\n",
       "\n",
       "    .dataframe tbody tr th {\n",
       "        vertical-align: top;\n",
       "    }\n",
       "\n",
       "    .dataframe thead th {\n",
       "        text-align: right;\n",
       "    }\n",
       "</style>\n",
       "<table border=\"1\" class=\"dataframe\">\n",
       "  <thead>\n",
       "    <tr style=\"text-align: right;\">\n",
       "      <th></th>\n",
       "      <th>npi</th>\n",
       "      <th>nppes_provider_gender</th>\n",
       "      <th>specialty_description</th>\n",
       "      <th>medicare_prvdr_enroll_status</th>\n",
       "      <th>total_claim_count</th>\n",
       "      <th>total_30_day_fill_count</th>\n",
       "      <th>total_drug_cost</th>\n",
       "      <th>total_day_supply</th>\n",
       "      <th>bene_count</th>\n",
       "      <th>ge65_suppress_flag</th>\n",
       "      <th>...</th>\n",
       "      <th>country</th>\n",
       "      <th>state</th>\n",
       "      <th>nppes_credentials</th>\n",
       "      <th>total_30_day_per_claim</th>\n",
       "      <th>drug_cost_per_claim</th>\n",
       "      <th>day_supply_per_claim</th>\n",
       "      <th>female_count</th>\n",
       "      <th>male_count</th>\n",
       "      <th>nondual_count</th>\n",
       "      <th>dual_count</th>\n",
       "    </tr>\n",
       "  </thead>\n",
       "  <tbody>\n",
       "    <tr>\n",
       "      <th>0</th>\n",
       "      <td>1003000126</td>\n",
       "      <td>M</td>\n",
       "      <td>Internal Medicine</td>\n",
       "      <td>E</td>\n",
       "      <td>677.0</td>\n",
       "      <td>695.5</td>\n",
       "      <td>32639.57</td>\n",
       "      <td>14788.0</td>\n",
       "      <td>234.0</td>\n",
       "      <td>not_suppressed</td>\n",
       "      <td>...</td>\n",
       "      <td>US</td>\n",
       "      <td>MD</td>\n",
       "      <td>Medical Doctor</td>\n",
       "      <td>1.0273264401772526</td>\n",
       "      <td>48.21206794682423</td>\n",
       "      <td>21.843426883308716</td>\n",
       "      <td>not suppressed</td>\n",
       "      <td>not suppressed</td>\n",
       "      <td>not suppressed</td>\n",
       "      <td>not suppressed</td>\n",
       "    </tr>\n",
       "    <tr>\n",
       "      <th>1</th>\n",
       "      <td>1003000142</td>\n",
       "      <td>M</td>\n",
       "      <td>Surgery</td>\n",
       "      <td>E</td>\n",
       "      <td>1946.0</td>\n",
       "      <td>2054.8</td>\n",
       "      <td>140189.01</td>\n",
       "      <td>58605.0</td>\n",
       "      <td>276.0</td>\n",
       "      <td>not_suppressed</td>\n",
       "      <td>...</td>\n",
       "      <td>US</td>\n",
       "      <td>OH</td>\n",
       "      <td>Medical Doctor</td>\n",
       "      <td>1.0559095580678315</td>\n",
       "      <td>72.03957348406989</td>\n",
       "      <td>30.115621788283658</td>\n",
       "      <td>not suppressed</td>\n",
       "      <td>not suppressed</td>\n",
       "      <td>not suppressed</td>\n",
       "      <td>not suppressed</td>\n",
       "    </tr>\n",
       "    <tr>\n",
       "      <th>2</th>\n",
       "      <td>1003000167</td>\n",
       "      <td>M</td>\n",
       "      <td>Dentist</td>\n",
       "      <td>N</td>\n",
       "      <td>55.0</td>\n",
       "      <td>55.0</td>\n",
       "      <td>302.01</td>\n",
       "      <td>430.0</td>\n",
       "      <td>33.0</td>\n",
       "      <td>counter suppressed</td>\n",
       "      <td>...</td>\n",
       "      <td>US</td>\n",
       "      <td>NV</td>\n",
       "      <td>Dentist/DDS</td>\n",
       "      <td>1.0</td>\n",
       "      <td>5.491090909090909</td>\n",
       "      <td>7.818181818181818</td>\n",
       "      <td>not suppressed</td>\n",
       "      <td>not suppressed</td>\n",
       "      <td>suppressed</td>\n",
       "      <td>suppressed</td>\n",
       "    </tr>\n",
       "    <tr>\n",
       "      <th>3</th>\n",
       "      <td>1003000175</td>\n",
       "      <td>F</td>\n",
       "      <td>Dentist</td>\n",
       "      <td>N</td>\n",
       "      <td>18.0</td>\n",
       "      <td>18.0</td>\n",
       "      <td>113.81</td>\n",
       "      <td>150.0</td>\n",
       "      <td>5.0</td>\n",
       "      <td>counter suppressed</td>\n",
       "      <td>...</td>\n",
       "      <td>US</td>\n",
       "      <td>CA</td>\n",
       "      <td>Dentist/DDS</td>\n",
       "      <td>1.0</td>\n",
       "      <td>6.322777777777778</td>\n",
       "      <td>8.333333333333334</td>\n",
       "      <td>suppressed</td>\n",
       "      <td>suppressed</td>\n",
       "      <td>suppressed</td>\n",
       "      <td>suppressed</td>\n",
       "    </tr>\n",
       "    <tr>\n",
       "      <th>4</th>\n",
       "      <td>1003000282</td>\n",
       "      <td>F</td>\n",
       "      <td>Nurse</td>\n",
       "      <td>N</td>\n",
       "      <td>90.0</td>\n",
       "      <td>110.0</td>\n",
       "      <td>7561.21</td>\n",
       "      <td>2681.0</td>\n",
       "      <td>11.0</td>\n",
       "      <td>not_suppressed</td>\n",
       "      <td>...</td>\n",
       "      <td>US</td>\n",
       "      <td>TN</td>\n",
       "      <td>Nurse</td>\n",
       "      <td>1.2222222222222223</td>\n",
       "      <td>84.01344444444445</td>\n",
       "      <td>29.788888888888888</td>\n",
       "      <td>suppressed</td>\n",
       "      <td>suppressed</td>\n",
       "      <td>suppressed</td>\n",
       "      <td>suppressed</td>\n",
       "    </tr>\n",
       "  </tbody>\n",
       "</table>\n",
       "<p>5 rows × 75 columns</p>\n",
       "</div>"
      ],
      "text/plain": [
       "          npi nppes_provider_gender specialty_description  \\\n",
       "0  1003000126                     M     Internal Medicine   \n",
       "1  1003000142                     M               Surgery   \n",
       "2  1003000167                     M               Dentist   \n",
       "3  1003000175                     F               Dentist   \n",
       "4  1003000282                     F                 Nurse   \n",
       "\n",
       "  medicare_prvdr_enroll_status total_claim_count total_30_day_fill_count  \\\n",
       "0                            E             677.0                   695.5   \n",
       "1                            E            1946.0                  2054.8   \n",
       "2                            N              55.0                    55.0   \n",
       "3                            N              18.0                    18.0   \n",
       "4                            N              90.0                   110.0   \n",
       "\n",
       "  total_drug_cost total_day_supply bene_count  ge65_suppress_flag  ...  \\\n",
       "0        32639.57          14788.0      234.0      not_suppressed  ...   \n",
       "1       140189.01          58605.0      276.0      not_suppressed  ...   \n",
       "2          302.01            430.0       33.0  counter suppressed  ...   \n",
       "3          113.81            150.0        5.0  counter suppressed  ...   \n",
       "4         7561.21           2681.0       11.0      not_suppressed  ...   \n",
       "\n",
       "  country state nppes_credentials total_30_day_per_claim drug_cost_per_claim  \\\n",
       "0      US    MD    Medical Doctor     1.0273264401772526   48.21206794682423   \n",
       "1      US    OH    Medical Doctor     1.0559095580678315   72.03957348406989   \n",
       "2      US    NV       Dentist/DDS                    1.0   5.491090909090909   \n",
       "3      US    CA       Dentist/DDS                    1.0   6.322777777777778   \n",
       "4      US    TN             Nurse     1.2222222222222223   84.01344444444445   \n",
       "\n",
       "  day_supply_per_claim    female_count      male_count   nondual_count  \\\n",
       "0   21.843426883308716  not suppressed  not suppressed  not suppressed   \n",
       "1   30.115621788283658  not suppressed  not suppressed  not suppressed   \n",
       "2    7.818181818181818  not suppressed  not suppressed      suppressed   \n",
       "3    8.333333333333334      suppressed      suppressed      suppressed   \n",
       "4   29.788888888888888      suppressed      suppressed      suppressed   \n",
       "\n",
       "       dual_count  \n",
       "0  not suppressed  \n",
       "1  not suppressed  \n",
       "2      suppressed  \n",
       "3      suppressed  \n",
       "4      suppressed  \n",
       "\n",
       "[5 rows x 75 columns]"
      ]
     },
     "execution_count": 2,
     "metadata": {},
     "output_type": "execute_result"
    }
   ],
   "source": [
    "#Read in dataframe\n",
    "df = pd.read_csv('Data/Providers_Updated_Clean.txt', sep='\\t', dtype=object)\n",
    "df.head()"
   ]
  },
  {
   "cell_type": "code",
   "execution_count": 3,
   "metadata": {},
   "outputs": [
    {
     "data": {
      "text/plain": [
       "Index(['npi', 'nppes_provider_gender', 'specialty_description',\n",
       "       'medicare_prvdr_enroll_status', 'total_claim_count',\n",
       "       'total_30_day_fill_count', 'total_drug_cost', 'total_day_supply',\n",
       "       'bene_count', 'ge65_suppress_flag', 'total_claim_count_ge65',\n",
       "       'total_30_day_fill_count_ge65', 'total_drug_cost_ge65',\n",
       "       'total_day_supply_ge65', 'bene_count_ge65_suppress_flag',\n",
       "       'bene_count_ge65', 'brand_suppress_flag', 'brand_claim_count',\n",
       "       'brand_drug_cost', 'generic_suppress_flag', 'generic_claim_count',\n",
       "       'generic_drug_cost', 'other_suppress_flag', 'other_claim_count',\n",
       "       'other_drug_cost', 'mapd_suppress_flag', 'mapd_claim_count',\n",
       "       'mapd_drug_cost', 'pdp_suppress_flag', 'pdp_claim_count',\n",
       "       'pdp_drug_cost', 'lis_suppress_flag', 'lis_claim_count',\n",
       "       'lis_drug_cost', 'nonlis_suppress_flag', 'nonlis_claim_count',\n",
       "       'nonlis_drug_cost', 'opioid_claim_count', 'opioid_drug_cost',\n",
       "       'opioid_day_supply', 'opioid_bene_count', 'opioid_prescriber_rate',\n",
       "       'la_opioid_claim_count', 'la_opioid_drug_cost', 'la_opioid_day_supply',\n",
       "       'la_opioid_bene_count', 'la_opioid_prescriber_rate',\n",
       "       'antibiotic_claim_count', 'antibiotic_drug_cost',\n",
       "       'antibiotic_bene_count', 'antipsych_ge65_suppress_flag',\n",
       "       'antipsych_claim_count_ge65', 'antipsych_drug_cost_ge65',\n",
       "       'antipsych_bene_ge65_suppress_flg', 'antipsych_bene_count_ge65',\n",
       "       'average_age_of_beneficiaries', 'beneficiary_female_count',\n",
       "       'beneficiary_male_count', 'beneficiary_nondual_count',\n",
       "       'beneficiary_dual_count', 'beneficiary_average_risk_score', 'EXCLYear',\n",
       "       'REINYear', 'excl_type', 'exclusion_flag', 'country', 'state',\n",
       "       'nppes_credentials', 'total_30_day_per_claim', 'drug_cost_per_claim',\n",
       "       'day_supply_per_claim', 'female_count', 'male_count', 'nondual_count',\n",
       "       'dual_count'],\n",
       "      dtype='object')"
      ]
     },
     "execution_count": 3,
     "metadata": {},
     "output_type": "execute_result"
    }
   ],
   "source": [
    "df.columns"
   ]
  },
  {
   "cell_type": "code",
   "execution_count": 4,
   "metadata": {},
   "outputs": [
    {
     "data": {
      "text/plain": [
       "0    1162433\n",
       "1        465\n",
       "Name: exclusion_flag, dtype: int64"
      ]
     },
     "execution_count": 4,
     "metadata": {},
     "output_type": "execute_result"
    }
   ],
   "source": [
    "df['exclusion_flag'].value_counts()"
   ]
  },
  {
   "cell_type": "markdown",
   "metadata": {},
   "source": [
    "Due to the high number of observations, we will take all rows labeled that were excluded then randomly sample an additional 4,535 for a final dataset of 5,000 observations to run our models on."
   ]
  },
  {
   "cell_type": "code",
   "execution_count": 5,
   "metadata": {},
   "outputs": [],
   "source": [
    "#Filtering to only the excluded rows\n",
    "excluded = df['exclusion_flag'] == '1'\n",
    "df_excluded = df[excluded]"
   ]
  },
  {
   "cell_type": "code",
   "execution_count": 6,
   "metadata": {},
   "outputs": [
    {
     "data": {
      "text/plain": [
       "(465, 75)"
      ]
     },
     "execution_count": 6,
     "metadata": {},
     "output_type": "execute_result"
    }
   ],
   "source": [
    "#Confirming these are 465 rows\n",
    "df_excluded.shape"
   ]
  },
  {
   "cell_type": "code",
   "execution_count": 7,
   "metadata": {},
   "outputs": [],
   "source": [
    "#Filtering to only non-excluded rows\n",
    "not_excluded = df['exclusion_flag'] == '0'\n",
    "df_not_excluded = df[not_excluded]"
   ]
  },
  {
   "cell_type": "code",
   "execution_count": 8,
   "metadata": {},
   "outputs": [
    {
     "data": {
      "text/plain": [
       "(1162433, 75)"
      ]
     },
     "execution_count": 8,
     "metadata": {},
     "output_type": "execute_result"
    }
   ],
   "source": [
    "#confirming this is 1162433 rows\n",
    "df_not_excluded.shape"
   ]
  },
  {
   "cell_type": "code",
   "execution_count": 9,
   "metadata": {},
   "outputs": [
    {
     "data": {
      "text/plain": [
       "(4535, 75)"
      ]
     },
     "execution_count": 9,
     "metadata": {},
     "output_type": "execute_result"
    }
   ],
   "source": [
    "#Randomly samping the non excluded component\n",
    "df_random = df_not_excluded.sample(n=4535)\n",
    "df_random.shape"
   ]
  },
  {
   "cell_type": "code",
   "execution_count": 10,
   "metadata": {},
   "outputs": [],
   "source": [
    "#Appending the randomly selected rows and the excluded rows\n",
    "df_final = df_random.append(df_excluded, ignore_index = True)"
   ]
  },
  {
   "cell_type": "code",
   "execution_count": 11,
   "metadata": {},
   "outputs": [
    {
     "data": {
      "text/plain": [
       "0    4535\n",
       "1     465\n",
       "Name: exclusion_flag, dtype: int64"
      ]
     },
     "execution_count": 11,
     "metadata": {},
     "output_type": "execute_result"
    }
   ],
   "source": [
    "#Confirming this is now 5000 lines with 465 marked as excluded and 4535 marked as not excluded\n",
    "df_final['exclusion_flag'].value_counts()"
   ]
  },
  {
   "cell_type": "code",
   "execution_count": 12,
   "metadata": {},
   "outputs": [
    {
     "data": {
      "text/plain": [
       "Index(['npi', 'nppes_provider_gender', 'specialty_description',\n",
       "       'medicare_prvdr_enroll_status', 'total_claim_count',\n",
       "       'total_30_day_fill_count', 'total_drug_cost', 'total_day_supply',\n",
       "       'bene_count', 'ge65_suppress_flag', 'total_claim_count_ge65',\n",
       "       'total_30_day_fill_count_ge65', 'total_drug_cost_ge65',\n",
       "       'total_day_supply_ge65', 'bene_count_ge65_suppress_flag',\n",
       "       'bene_count_ge65', 'brand_suppress_flag', 'brand_claim_count',\n",
       "       'brand_drug_cost', 'generic_suppress_flag', 'generic_claim_count',\n",
       "       'generic_drug_cost', 'other_suppress_flag', 'other_claim_count',\n",
       "       'other_drug_cost', 'mapd_suppress_flag', 'mapd_claim_count',\n",
       "       'mapd_drug_cost', 'pdp_suppress_flag', 'pdp_claim_count',\n",
       "       'pdp_drug_cost', 'lis_suppress_flag', 'lis_claim_count',\n",
       "       'lis_drug_cost', 'nonlis_suppress_flag', 'nonlis_claim_count',\n",
       "       'nonlis_drug_cost', 'opioid_claim_count', 'opioid_drug_cost',\n",
       "       'opioid_day_supply', 'opioid_bene_count', 'opioid_prescriber_rate',\n",
       "       'la_opioid_claim_count', 'la_opioid_drug_cost', 'la_opioid_day_supply',\n",
       "       'la_opioid_bene_count', 'la_opioid_prescriber_rate',\n",
       "       'antibiotic_claim_count', 'antibiotic_drug_cost',\n",
       "       'antibiotic_bene_count', 'antipsych_ge65_suppress_flag',\n",
       "       'antipsych_claim_count_ge65', 'antipsych_drug_cost_ge65',\n",
       "       'antipsych_bene_ge65_suppress_flg', 'antipsych_bene_count_ge65',\n",
       "       'average_age_of_beneficiaries', 'beneficiary_female_count',\n",
       "       'beneficiary_male_count', 'beneficiary_nondual_count',\n",
       "       'beneficiary_dual_count', 'beneficiary_average_risk_score', 'EXCLYear',\n",
       "       'REINYear', 'excl_type', 'exclusion_flag', 'country', 'state',\n",
       "       'nppes_credentials', 'total_30_day_per_claim', 'drug_cost_per_claim',\n",
       "       'day_supply_per_claim', 'female_count', 'male_count', 'nondual_count',\n",
       "       'dual_count'],\n",
       "      dtype='object')"
      ]
     },
     "execution_count": 12,
     "metadata": {},
     "output_type": "execute_result"
    }
   ],
   "source": [
    "#Confirming all columns still in the data\n",
    "df_final.columns"
   ]
  },
  {
   "cell_type": "code",
   "execution_count": 13,
   "metadata": {},
   "outputs": [],
   "source": [
    "#Saving as new datafile\n",
    "df_final.to_csv('Data/Final_Data.txt', sep='\\t', index = False)"
   ]
  },
  {
   "cell_type": "code",
   "execution_count": null,
   "metadata": {},
   "outputs": [],
   "source": []
  }
 ],
 "metadata": {
  "kernelspec": {
   "display_name": "Python 3",
   "language": "python",
   "name": "python3"
  },
  "language_info": {
   "codemirror_mode": {
    "name": "ipython",
    "version": 3
   },
   "file_extension": ".py",
   "mimetype": "text/x-python",
   "name": "python",
   "nbconvert_exporter": "python",
   "pygments_lexer": "ipython3",
   "version": "3.7.4"
  }
 },
 "nbformat": 4,
 "nbformat_minor": 2
}
