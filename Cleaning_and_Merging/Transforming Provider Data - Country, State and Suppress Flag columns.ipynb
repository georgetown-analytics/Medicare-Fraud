{
 "cells": [
  {
   "cell_type": "code",
   "execution_count": 1,
   "metadata": {},
   "outputs": [],
   "source": [
    "%matplotlib inline\n",
    "\n",
    "import matplotlib\n",
    "import numpy as np\n",
    "import pandas as pd \n",
    "import seaborn as sns\n",
    "import matplotlib.pyplot as plt\n",
    "from pandas.plotting import scatter_matrix"
   ]
  },
  {
   "cell_type": "code",
   "execution_count": 2,
   "metadata": {},
   "outputs": [],
   "source": [
    "df = pd.read_csv('Data/Providers_matched_byNPI_updated.txt', sep='\\t', low_memory=False)"
   ]
  },
  {
   "cell_type": "code",
   "execution_count": 3,
   "metadata": {},
   "outputs": [
    {
     "data": {
      "text/html": [
       "<div>\n",
       "<style scoped>\n",
       "    .dataframe tbody tr th:only-of-type {\n",
       "        vertical-align: middle;\n",
       "    }\n",
       "\n",
       "    .dataframe tbody tr th {\n",
       "        vertical-align: top;\n",
       "    }\n",
       "\n",
       "    .dataframe thead th {\n",
       "        text-align: right;\n",
       "    }\n",
       "</style>\n",
       "<table border=\"1\" class=\"dataframe\">\n",
       "  <thead>\n",
       "    <tr style=\"text-align: right;\">\n",
       "      <th></th>\n",
       "      <th>npi</th>\n",
       "      <th>nppes_provider_last_org_name</th>\n",
       "      <th>nppes_provider_first_name</th>\n",
       "      <th>nppes_provider_mi</th>\n",
       "      <th>nppes_credentials</th>\n",
       "      <th>nppes_provider_gender</th>\n",
       "      <th>nppes_entity_code</th>\n",
       "      <th>nppes_provider_street1</th>\n",
       "      <th>nppes_provider_city</th>\n",
       "      <th>nppes_provider_zip5</th>\n",
       "      <th>...</th>\n",
       "      <th>average_age_of_beneficiaries</th>\n",
       "      <th>beneficiary_female_count</th>\n",
       "      <th>beneficiary_male_count</th>\n",
       "      <th>beneficiary_nondual_count</th>\n",
       "      <th>beneficiary_dual_count</th>\n",
       "      <th>beneficiary_average_risk_score</th>\n",
       "      <th>EXCLYear</th>\n",
       "      <th>REINYear</th>\n",
       "      <th>excl_type</th>\n",
       "      <th>exclusion_flag</th>\n",
       "    </tr>\n",
       "  </thead>\n",
       "  <tbody>\n",
       "    <tr>\n",
       "      <th>0</th>\n",
       "      <td>1003000126</td>\n",
       "      <td>ENKESHAFI</td>\n",
       "      <td>ARDALAN</td>\n",
       "      <td>NaN</td>\n",
       "      <td>M.D.</td>\n",
       "      <td>M</td>\n",
       "      <td>I</td>\n",
       "      <td>900 SETON DR</td>\n",
       "      <td>CUMBERLAND</td>\n",
       "      <td>21502.0</td>\n",
       "      <td>...</td>\n",
       "      <td>72.0</td>\n",
       "      <td>142.0</td>\n",
       "      <td>92.0</td>\n",
       "      <td>143.0</td>\n",
       "      <td>91.0</td>\n",
       "      <td>2.1685</td>\n",
       "      <td>NaN</td>\n",
       "      <td>NaN</td>\n",
       "      <td>NaN</td>\n",
       "      <td>0</td>\n",
       "    </tr>\n",
       "    <tr>\n",
       "      <th>1</th>\n",
       "      <td>1003000142</td>\n",
       "      <td>KHALIL</td>\n",
       "      <td>RASHID</td>\n",
       "      <td>NaN</td>\n",
       "      <td>M.D.</td>\n",
       "      <td>M</td>\n",
       "      <td>I</td>\n",
       "      <td>4126 N HOLLAND SYLVANIA RD</td>\n",
       "      <td>TOLEDO</td>\n",
       "      <td>43623.0</td>\n",
       "      <td>...</td>\n",
       "      <td>65.0</td>\n",
       "      <td>184.0</td>\n",
       "      <td>92.0</td>\n",
       "      <td>143.0</td>\n",
       "      <td>133.0</td>\n",
       "      <td>1.8029</td>\n",
       "      <td>NaN</td>\n",
       "      <td>NaN</td>\n",
       "      <td>NaN</td>\n",
       "      <td>0</td>\n",
       "    </tr>\n",
       "    <tr>\n",
       "      <th>2</th>\n",
       "      <td>1003000167</td>\n",
       "      <td>ESCOBAR</td>\n",
       "      <td>JULIO</td>\n",
       "      <td>E</td>\n",
       "      <td>DDS</td>\n",
       "      <td>M</td>\n",
       "      <td>I</td>\n",
       "      <td>5 PINE CONE RD</td>\n",
       "      <td>DAYTON</td>\n",
       "      <td>89403.0</td>\n",
       "      <td>...</td>\n",
       "      <td>72.0</td>\n",
       "      <td>16.0</td>\n",
       "      <td>17.0</td>\n",
       "      <td>NaN</td>\n",
       "      <td>NaN</td>\n",
       "      <td>1.0598</td>\n",
       "      <td>NaN</td>\n",
       "      <td>NaN</td>\n",
       "      <td>NaN</td>\n",
       "      <td>0</td>\n",
       "    </tr>\n",
       "    <tr>\n",
       "      <th>3</th>\n",
       "      <td>1003000175</td>\n",
       "      <td>REYES-VASQUEZ</td>\n",
       "      <td>BELINDA</td>\n",
       "      <td>NaN</td>\n",
       "      <td>D.D.S.</td>\n",
       "      <td>F</td>\n",
       "      <td>I</td>\n",
       "      <td>322 N AZUSA AVE STE 202</td>\n",
       "      <td>LA PUENTE</td>\n",
       "      <td>91744.0</td>\n",
       "      <td>...</td>\n",
       "      <td>NaN</td>\n",
       "      <td>NaN</td>\n",
       "      <td>NaN</td>\n",
       "      <td>NaN</td>\n",
       "      <td>NaN</td>\n",
       "      <td>NaN</td>\n",
       "      <td>NaN</td>\n",
       "      <td>NaN</td>\n",
       "      <td>NaN</td>\n",
       "      <td>0</td>\n",
       "    </tr>\n",
       "    <tr>\n",
       "      <th>4</th>\n",
       "      <td>1003000282</td>\n",
       "      <td>BLAKEMORE</td>\n",
       "      <td>ROSIE</td>\n",
       "      <td>K</td>\n",
       "      <td>FNP</td>\n",
       "      <td>F</td>\n",
       "      <td>I</td>\n",
       "      <td>TENNESSEE PRISON FOR WOMEN</td>\n",
       "      <td>NASHVILLE</td>\n",
       "      <td>37243.0</td>\n",
       "      <td>...</td>\n",
       "      <td>62.0</td>\n",
       "      <td>NaN</td>\n",
       "      <td>NaN</td>\n",
       "      <td>NaN</td>\n",
       "      <td>NaN</td>\n",
       "      <td>4.5148</td>\n",
       "      <td>NaN</td>\n",
       "      <td>NaN</td>\n",
       "      <td>NaN</td>\n",
       "      <td>0</td>\n",
       "    </tr>\n",
       "  </tbody>\n",
       "</table>\n",
       "<p>5 rows × 76 columns</p>\n",
       "</div>"
      ],
      "text/plain": [
       "          npi nppes_provider_last_org_name nppes_provider_first_name  \\\n",
       "0  1003000126                    ENKESHAFI                   ARDALAN   \n",
       "1  1003000142                       KHALIL                    RASHID   \n",
       "2  1003000167                      ESCOBAR                     JULIO   \n",
       "3  1003000175                REYES-VASQUEZ                   BELINDA   \n",
       "4  1003000282                    BLAKEMORE                     ROSIE   \n",
       "\n",
       "  nppes_provider_mi nppes_credentials nppes_provider_gender nppes_entity_code  \\\n",
       "0               NaN              M.D.                     M                 I   \n",
       "1               NaN              M.D.                     M                 I   \n",
       "2                 E               DDS                     M                 I   \n",
       "3               NaN            D.D.S.                     F                 I   \n",
       "4                 K               FNP                     F                 I   \n",
       "\n",
       "       nppes_provider_street1 nppes_provider_city  nppes_provider_zip5  ...  \\\n",
       "0                900 SETON DR          CUMBERLAND              21502.0  ...   \n",
       "1  4126 N HOLLAND SYLVANIA RD              TOLEDO              43623.0  ...   \n",
       "2              5 PINE CONE RD              DAYTON              89403.0  ...   \n",
       "3     322 N AZUSA AVE STE 202           LA PUENTE              91744.0  ...   \n",
       "4  TENNESSEE PRISON FOR WOMEN           NASHVILLE              37243.0  ...   \n",
       "\n",
       "  average_age_of_beneficiaries beneficiary_female_count  \\\n",
       "0                         72.0                    142.0   \n",
       "1                         65.0                    184.0   \n",
       "2                         72.0                     16.0   \n",
       "3                          NaN                      NaN   \n",
       "4                         62.0                      NaN   \n",
       "\n",
       "  beneficiary_male_count beneficiary_nondual_count beneficiary_dual_count  \\\n",
       "0                   92.0                     143.0                   91.0   \n",
       "1                   92.0                     143.0                  133.0   \n",
       "2                   17.0                       NaN                    NaN   \n",
       "3                    NaN                       NaN                    NaN   \n",
       "4                    NaN                       NaN                    NaN   \n",
       "\n",
       "   beneficiary_average_risk_score  EXCLYear  REINYear  excl_type  \\\n",
       "0                          2.1685       NaN       NaN        NaN   \n",
       "1                          1.8029       NaN       NaN        NaN   \n",
       "2                          1.0598       NaN       NaN        NaN   \n",
       "3                             NaN       NaN       NaN        NaN   \n",
       "4                          4.5148       NaN       NaN        NaN   \n",
       "\n",
       "   exclusion_flag  \n",
       "0               0  \n",
       "1               0  \n",
       "2               0  \n",
       "3               0  \n",
       "4               0  \n",
       "\n",
       "[5 rows x 76 columns]"
      ]
     },
     "execution_count": 3,
     "metadata": {},
     "output_type": "execute_result"
    }
   ],
   "source": [
    "#comfirming dataframe seems to have read in correctly\n",
    "df.head()"
   ]
  },
  {
   "cell_type": "code",
   "execution_count": 4,
   "metadata": {},
   "outputs": [
    {
     "data": {
      "text/plain": [
       "npi                                 1162898\n",
       "nppes_provider_last_org_name         262445\n",
       "nppes_provider_first_name             82704\n",
       "nppes_provider_mi                        34\n",
       "nppes_credentials                     15790\n",
       "nppes_provider_gender                     2\n",
       "nppes_entity_code                         2\n",
       "nppes_provider_street1               393764\n",
       "nppes_provider_city                   12909\n",
       "nppes_provider_zip5                   20266\n",
       "nppes_provider_state                     61\n",
       "nppes_provider_country                   41\n",
       "specialty_description                   214\n",
       "description_flag                          2\n",
       "medicare_prvdr_enroll_status              3\n",
       "total_claim_count                     21955\n",
       "total_30_day_fill_count              139684\n",
       "total_drug_cost                      927168\n",
       "total_day_supply                     230328\n",
       "bene_count                             2035\n",
       "ge65_suppress_flag                        2\n",
       "total_claim_count_ge65                19174\n",
       "total_30_day_fill_count_ge65         212220\n",
       "total_drug_cost_ge65                 781583\n",
       "total_day_supply_ge65                207218\n",
       "bene_count_ge65_suppress_flag             2\n",
       "bene_count_ge65                        1853\n",
       "brand_suppress_flag                       2\n",
       "brand_claim_count                      6443\n",
       "brand_drug_cost                      537659\n",
       "                                     ...   \n",
       "nonlis_claim_count                    14487\n",
       "nonlis_drug_cost                     745873\n",
       "opioid_claim_count                     4065\n",
       "opioid_drug_cost                     257562\n",
       "opioid_day_supply                     31665\n",
       "opioid_bene_count                      1064\n",
       "opioid_prescriber_rate                 8817\n",
       "la_opioid_claim_count                  1641\n",
       "la_opioid_drug_cost                  103970\n",
       "la_opioid_day_supply                  12069\n",
       "la_opioid_bene_count                    462\n",
       "la_opioid_prescriber_rate              5708\n",
       "antibiotic_claim_count                 1632\n",
       "antibiotic_drug_cost                 288569\n",
       "antibiotic_bene_count                   854\n",
       "antipsych_ge65_suppress_flag              2\n",
       "antipsych_claim_count_ge65             1393\n",
       "antipsych_drug_cost_ge65             115561\n",
       "antipsych_bene_ge65_suppress_flg          2\n",
       "antipsych_bene_count_ge65               298\n",
       "average_age_of_beneficiaries             87\n",
       "beneficiary_female_count               1332\n",
       "beneficiary_male_count                 1107\n",
       "beneficiary_nondual_count              1651\n",
       "beneficiary_dual_count                 1252\n",
       "beneficiary_average_risk_score        43211\n",
       "EXCLYear                                  7\n",
       "REINYear                                  3\n",
       "excl_type                                14\n",
       "exclusion_flag                            2\n",
       "Length: 76, dtype: int64"
      ]
     },
     "execution_count": 4,
     "metadata": {},
     "output_type": "execute_result"
    }
   ],
   "source": [
    "df.nunique()"
   ]
  },
  {
   "cell_type": "code",
   "execution_count": 5,
   "metadata": {},
   "outputs": [
    {
     "data": {
      "text/plain": [
       "US    1162732\n",
       "CA         33\n",
       "DE         28\n",
       "JP         11\n",
       "KR         10\n",
       "IN          9\n",
       "MX          9\n",
       "IT          7\n",
       "SA          4\n",
       "TR          4\n",
       "PK          4\n",
       "GB          4\n",
       "TH          3\n",
       "LB          3\n",
       "IL          3\n",
       "CN          2\n",
       "AA          2\n",
       "AE          2\n",
       "KW          2\n",
       "IE          2\n",
       "ES          2\n",
       "GR          2\n",
       "QA          2\n",
       "BA          1\n",
       "KH          1\n",
       "MW          1\n",
       "CM          1\n",
       "CL          1\n",
       "BH          1\n",
       "EG          1\n",
       "NO          1\n",
       "NL          1\n",
       "NZ          1\n",
       "JO          1\n",
       "AG          1\n",
       "UG          1\n",
       "IQ          1\n",
       "PE          1\n",
       "AL          1\n",
       "OM          1\n",
       "AR          1\n",
       "Name: nppes_provider_country, dtype: int64"
      ]
     },
     "execution_count": 5,
     "metadata": {},
     "output_type": "execute_result"
    }
   ],
   "source": [
    "#Looking at country values\n",
    "df['nppes_provider_country'].value_counts()"
   ]
  },
  {
   "cell_type": "code",
   "execution_count": 6,
   "metadata": {},
   "outputs": [],
   "source": [
    "#Classifying country by US and non US\n",
    "df['country'] = df['nppes_provider_country'].apply(lambda x: 'US' if x == 'US' else 'Not US')"
   ]
  },
  {
   "cell_type": "code",
   "execution_count": 7,
   "metadata": {},
   "outputs": [
    {
     "data": {
      "text/plain": [
       "US        1162732\n",
       "Not US        166\n",
       "Name: country, dtype: int64"
      ]
     },
     "execution_count": 7,
     "metadata": {},
     "output_type": "execute_result"
    }
   ],
   "source": [
    "#Confirming transformation appears to have applied correctly\n",
    "df['country'].value_counts()"
   ]
  },
  {
   "cell_type": "code",
   "execution_count": 8,
   "metadata": {},
   "outputs": [],
   "source": [
    "#grouping together the three armed forces and the american territories in state column\n",
    "df['state1'] = (df['nppes_provider_state'].str.replace('AA', 'AF').str.replace('AE', 'AF').str.replace('AP', 'AF'))"
   ]
  },
  {
   "cell_type": "code",
   "execution_count": 9,
   "metadata": {},
   "outputs": [],
   "source": [
    "df['state'] = (df['state1'].str.replace('AS', 'AT').str.replace('GU', 'AT').str.replace('MP', 'AT').str.replace('PR', 'AT').str.replace('VI', 'AT'))"
   ]
  },
  {
   "cell_type": "code",
   "execution_count": 10,
   "metadata": {},
   "outputs": [
    {
     "data": {
      "text/plain": [
       "61"
      ]
     },
     "execution_count": 10,
     "metadata": {},
     "output_type": "execute_result"
    }
   ],
   "source": [
    "df['nppes_provider_state'].nunique()"
   ]
  },
  {
   "cell_type": "code",
   "execution_count": 11,
   "metadata": {},
   "outputs": [
    {
     "data": {
      "text/plain": [
       "55"
      ]
     },
     "execution_count": 11,
     "metadata": {},
     "output_type": "execute_result"
    }
   ],
   "source": [
    "#If conversions worked correctly, then the number of unique values for state column should be 55\n",
    "df['state'].nunique()"
   ]
  },
  {
   "cell_type": "code",
   "execution_count": 12,
   "metadata": {},
   "outputs": [],
   "source": [
    "#Dropping the non transformed country and state columns \n",
    "df1 = df.drop(columns = ['nppes_provider_state', 'nppes_provider_country', 'state1'])"
   ]
  },
  {
   "cell_type": "code",
   "execution_count": 13,
   "metadata": {},
   "outputs": [
    {
     "data": {
      "text/plain": [
       "(1162898, 76)"
      ]
     },
     "execution_count": 13,
     "metadata": {},
     "output_type": "execute_result"
    }
   ],
   "source": [
    "df1.shape"
   ]
  },
  {
   "cell_type": "markdown",
   "metadata": {},
   "source": [
    "## Working with Null Values\n",
    "\n",
    "All null values in the suppress fields is because that row is not suppressed. Therefore will change this is a categorical columns with null values filled in as 'not suppressed'"
   ]
  },
  {
   "cell_type": "code",
   "execution_count": 14,
   "metadata": {},
   "outputs": [],
   "source": [
    "#Replacing null values for the suppress flag\n",
    "df1.fillna({'bene_count_ge65_suppress_flag': 'not_suppressed', 'ge65_suppress_flag': 'not_suppressed', 'brand_suppress_flag': 'not_suppressed', 'generic_suppress_flag': 'not_suppressed', 'other_suppress_flag': 'not_suppressed', 'mapd_suppress_flag': 'not_suppressed', 'pdp_suppress_flag': 'not_suppressed', 'lis_suppress_flag': 'not_suppressed', 'nonlis_suppress_flag': 'not_suppressed'}, inplace=True)"
   ]
  },
  {
   "cell_type": "code",
   "execution_count": 15,
   "metadata": {},
   "outputs": [],
   "source": [
    "#Creating a grouping for the suppress flag columns\n",
    "suppress = ['bene_count_ge65_suppress_flag', 'ge65_suppress_flag', 'brand_suppress_flag', 'generic_suppress_flag', 'other_suppress_flag', 'mapd_suppress_flag', 'pdp_suppress_flag', 'lis_suppress_flag', 'nonlis_suppress_flag']"
   ]
  },
  {
   "cell_type": "code",
   "execution_count": 16,
   "metadata": {},
   "outputs": [
    {
     "data": {
      "text/plain": [
       "bene_count_ge65_suppress_flag    0\n",
       "ge65_suppress_flag               0\n",
       "brand_suppress_flag              0\n",
       "generic_suppress_flag            0\n",
       "other_suppress_flag              0\n",
       "mapd_suppress_flag               0\n",
       "pdp_suppress_flag                0\n",
       "lis_suppress_flag                0\n",
       "nonlis_suppress_flag             0\n",
       "dtype: int64"
      ]
     },
     "execution_count": 16,
     "metadata": {},
     "output_type": "execute_result"
    }
   ],
   "source": [
    "#Confirming no more null values exist for the suppress flag\n",
    "df1[suppress].isnull().sum()"
   ]
  },
  {
   "cell_type": "code",
   "execution_count": 17,
   "metadata": {},
   "outputs": [
    {
     "data": {
      "text/plain": [
       "not_suppressed    910442\n",
       "#                 204945\n",
       "*                  47511\n",
       "Name: ge65_suppress_flag, dtype: int64"
      ]
     },
     "execution_count": 17,
     "metadata": {},
     "output_type": "execute_result"
    }
   ],
   "source": [
    "#confirming three values now exist\n",
    "df1['ge65_suppress_flag'].value_counts()"
   ]
  },
  {
   "cell_type": "code",
   "execution_count": 21,
   "metadata": {},
   "outputs": [],
   "source": [
    "#Saving cleaned file to new csv\n",
    "df1.to_csv('Data/Providers_updated1.txt', sep='\\t', index=False)"
   ]
  }
 ],
 "metadata": {
  "kernelspec": {
   "display_name": "Python 3",
   "language": "python",
   "name": "python3"
  },
  "language_info": {
   "codemirror_mode": {
    "name": "ipython",
    "version": 3
   },
   "file_extension": ".py",
   "mimetype": "text/x-python",
   "name": "python",
   "nbconvert_exporter": "python",
   "pygments_lexer": "ipython3",
   "version": "3.7.4"
  }
 },
 "nbformat": 4,
 "nbformat_minor": 2
}
