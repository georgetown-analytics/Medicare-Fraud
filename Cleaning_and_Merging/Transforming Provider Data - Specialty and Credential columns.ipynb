{
 "cells": [
  {
   "cell_type": "code",
   "execution_count": 1,
   "metadata": {},
   "outputs": [],
   "source": [
    "%matplotlib inline\n",
    "\n",
    "import matplotlib\n",
    "import numpy as np\n",
    "import pandas as pd \n",
    "import seaborn as sns\n",
    "import matplotlib.pyplot as plt\n",
    "from pandas.plotting import scatter_matrix"
   ]
  },
  {
   "cell_type": "code",
   "execution_count": 2,
   "metadata": {},
   "outputs": [],
   "source": [
    "df = pd.read_csv('Data/Providers_updated1.txt', sep='\\t', low_memory=False)"
   ]
  },
  {
   "cell_type": "markdown",
   "metadata": {},
   "source": [
    "# Creating higher level groups for Specialty and Credentials\n",
    "\n",
    "The credentials and specialty description columns have a lot of categories. For the credentials column, this seems to be due to a lack of uniformity in how the values are entered into this column (e.g. M.D. vs MD) while specialty has a wide range of options. To see if we can use these as possible features, will work on cleaning these two columns and group them into a smaller number of groups. \n",
    "\n",
    "## Specialty"
   ]
  },
  {
   "cell_type": "code",
   "execution_count": 3,
   "metadata": {},
   "outputs": [
    {
     "data": {
      "text/plain": [
       "Nurse Practitioner                                                153964\n",
       "Dentist                                                           130646\n",
       "Internal Medicine                                                 130302\n",
       "Family Practice                                                   110290\n",
       "Physician Assistant                                                92495\n",
       "Student in an Organized Health Care Education/Training Program     53815\n",
       "Emergency Medicine                                                 48475\n",
       "Obstetrics & Gynecology                                            35496\n",
       "Optometry                                                          29460\n",
       "Psychiatry                                                         25413\n",
       "General Surgery                                                    22822\n",
       "Orthopedic Surgery                                                 21323\n",
       "Cardiology                                                         20265\n",
       "Ophthalmology                                                      19790\n",
       "Podiatry                                                           15335\n",
       "Psychiatry & Neurology                                             14214\n",
       "Neurology                                                          13885\n",
       "Gastroenterology                                                   13596\n",
       "Dermatology                                                        13297\n",
       "Pediatric Medicine                                                 10950\n",
       "Urology                                                            10707\n",
       "Otolaryngology                                                     10461\n",
       "General Practice                                                    9923\n",
       "Pulmonary Disease                                                   9463\n",
       "Nephrology                                                          8632\n",
       "Hematology-Oncology                                                 8526\n",
       "Physical Medicine and Rehabilitation                                8444\n",
       "Anesthesiology                                                      7057\n",
       "Pharmacist                                                          6669\n",
       "Endocrinology                                                       5931\n",
       "                                                                   ...  \n",
       "Residential Treatment Facility, Physical Disabilities                  2\n",
       "Emergency Medical Technician, Intermediate                             2\n",
       "Religious Nonmedical Practitioner                                      1\n",
       "Dietetic Technician, Registered                                        1\n",
       "Respite Care                                                           1\n",
       "Homemaker                                                              1\n",
       "Skilled Nursing Facility                                               1\n",
       "Non-emergency Medical Transport (VAN)                                  1\n",
       "Psychiatric Residential Treatment Facility                             1\n",
       "Doula                                                                  1\n",
       "Radiation Therapy Center                                               1\n",
       "Local Education Agency (LEA)                                           1\n",
       "Other Medical Supply Company                                           1\n",
       "Perfusionist                                                           1\n",
       "Specialist/Technologist Cardiovascular                                 1\n",
       "Sleep Specialist, PhD                                                  1\n",
       "Early Intervention Provider Agency                                     1\n",
       "Prevention Professional                                                1\n",
       "Dental Laboratory Technician                                           1\n",
       "Hematopoietic Cell Transplantation and Cellular Therapy                1\n",
       "Licensed Psychiatric Technician                                        1\n",
       "Voluntary Health or Charitable Agency                                  1\n",
       "Technician, Cardiology                                                 1\n",
       "Electrodiagnostic Medicine                                             1\n",
       "Dental Therapist                                                       1\n",
       "Residential Treatment Facility, Emotionally Disturbed Children         1\n",
       "Dietary Manager                                                        1\n",
       "Clinical Laboratory                                                    1\n",
       "Lodging                                                                1\n",
       "Private Vehicle                                                        1\n",
       "Name: specialty_description, Length: 214, dtype: int64"
      ]
     },
     "execution_count": 3,
     "metadata": {},
     "output_type": "execute_result"
    }
   ],
   "source": [
    "df['specialty_description'].value_counts()"
   ]
  },
  {
   "cell_type": "code",
   "execution_count": 4,
   "metadata": {},
   "outputs": [],
   "source": [
    "#Creating a list of all descriptions that include surgery to create one grouping\n",
    "surgery_check = df['specialty_description'].str.contains('Surgery|Anesthe')\n",
    "surgery_true = df[surgery_check]\n",
    "surgery = surgery_true['specialty_description'].unique()"
   ]
  },
  {
   "cell_type": "code",
   "execution_count": 5,
   "metadata": {},
   "outputs": [
    {
     "name": "stdout",
     "output_type": "stream",
     "text": [
      "['Anesthesiology' 'General Surgery' 'Cardiac Surgery' 'Orthopedic Surgery'\n",
      " 'Orthopaedic Surgery' 'Plastic and Reconstructive Surgery'\n",
      " 'Oral Surgery (Dentist only)' 'Thoracic Surgery' 'Hand Surgery' 'Surgery'\n",
      " 'Vascular Surgery' 'Colorectal Surgery (Proctology)'\n",
      " 'Maxillofacial Surgery' 'Oral & Maxillofacial Surgery'\n",
      " 'Certified Registered Nurse Anesthetist (CRNA)' 'Neurological Surgery'\n",
      " 'Plastic Surgery' 'Colon & Rectal Surgery'\n",
      " 'Thoracic Surgery (Cardiothoracic Vascular Surgery)'\n",
      " 'Anesthesiology Assistant']\n"
     ]
    }
   ],
   "source": [
    "#Checking all terms fit in this category\n",
    "print(surgery)"
   ]
  },
  {
   "cell_type": "code",
   "execution_count": 6,
   "metadata": {},
   "outputs": [],
   "source": [
    "#Creating surgical grouping\n",
    "df['specialty_description'] = df['specialty_description'].replace(surgery, 'Surgery')"
   ]
  },
  {
   "cell_type": "code",
   "execution_count": 7,
   "metadata": {},
   "outputs": [],
   "source": [
    "#Creating a list of all descriptions that include oncology\n",
    "oncology_check = df['specialty_description'].str.contains('oncology', case=False)\n",
    "oncology_true = df[oncology_check]\n",
    "oncology = oncology_true['specialty_description'].unique()"
   ]
  },
  {
   "cell_type": "code",
   "execution_count": 8,
   "metadata": {},
   "outputs": [
    {
     "name": "stdout",
     "output_type": "stream",
     "text": [
      "['Radiation Oncology' 'Hematology-Oncology' 'Medical Oncology'\n",
      " 'Surgical Oncology' 'Gynecological Oncology']\n"
     ]
    }
   ],
   "source": [
    "#Checking all terms fit in this category\n",
    "print(oncology)"
   ]
  },
  {
   "cell_type": "code",
   "execution_count": 9,
   "metadata": {},
   "outputs": [],
   "source": [
    "#Creating oncology grouping\n",
    "df['specialty_description'] = df['specialty_description'].replace(oncology, 'Oncology')"
   ]
  },
  {
   "cell_type": "code",
   "execution_count": 10,
   "metadata": {},
   "outputs": [],
   "source": [
    "#Creating a list of all descriptions that include neurology and psychiatry\n",
    "n_and_p_check = df['specialty_description'].str.contains('neuro|psychiatr|psycho', case=False)\n",
    "n_and_p_true = df[n_and_p_check]\n",
    "neuro = n_and_p_true['specialty_description'].unique()"
   ]
  },
  {
   "cell_type": "code",
   "execution_count": 11,
   "metadata": {},
   "outputs": [
    {
     "name": "stdout",
     "output_type": "stream",
     "text": [
      "['Psychiatry' 'Neurology' 'Psychiatry & Neurology' 'Neurosurgery'\n",
      " 'Neuropsychiatry' 'Psychologist, Clinical' 'Psychoanalyst'\n",
      " 'Neuromusculoskeletal Medicine, Sports Medicine' 'Psychologist'\n",
      " 'Geriatric Psychiatry' 'Clinical Neuropsychologist'\n",
      " 'Licensed Psychiatric Technician'\n",
      " 'Psychiatric Residential Treatment Facility']\n"
     ]
    }
   ],
   "source": [
    "#Checking all terms fit in this category\n",
    "print(neuro)"
   ]
  },
  {
   "cell_type": "code",
   "execution_count": 12,
   "metadata": {},
   "outputs": [],
   "source": [
    "#Creating psychiatry and neurology grouping\n",
    "df['specialty_description'] = df['specialty_description'].replace(neuro, 'Psychiatry/Psychology & Neurology')"
   ]
  },
  {
   "cell_type": "code",
   "execution_count": 13,
   "metadata": {},
   "outputs": [],
   "source": [
    "#Creating a list of all descriptions that include emergency\n",
    "emergency_check = df['specialty_description'].str.contains('emergency', case=False)\n",
    "emergency_true = df[emergency_check]\n",
    "emergency = emergency_true['specialty_description'].unique()"
   ]
  },
  {
   "cell_type": "code",
   "execution_count": 14,
   "metadata": {},
   "outputs": [
    {
     "name": "stdout",
     "output_type": "stream",
     "text": [
      "['Emergency Medicine' 'Personal Emergency Response Attendant'\n",
      " 'Emergency Medical Technician, Basic'\n",
      " 'Non-emergency Medical Transport (VAN)'\n",
      " 'Emergency Medical Technician, Paramedic'\n",
      " 'Emergency Medical Technician, Intermediate']\n"
     ]
    }
   ],
   "source": [
    "#Checking all terms fit in this category\n",
    "print(emergency)"
   ]
  },
  {
   "cell_type": "code",
   "execution_count": 15,
   "metadata": {},
   "outputs": [],
   "source": [
    "#Creating emergency medicine grouping but removed the non-emergency description\n",
    "df['specialty_description'] = df['specialty_description'].replace(['Emergency Medicine', 'Personal Emergency Response Attendant', 'Emergency Medical Technician, Basic', 'Emergency Medical Technician, Paramedic', 'Emergency Medical Technician, Intermediate'], 'Emergency Medicine')"
   ]
  },
  {
   "cell_type": "code",
   "execution_count": 16,
   "metadata": {},
   "outputs": [],
   "source": [
    "#Creating a list of all descriptions that include dentist/dental\n",
    "dentist_check = df['specialty_description'].str.contains('dentist|dental', case=False)\n",
    "dentist_true = df[dentist_check]\n",
    "dental = dentist_true['specialty_description'].unique()"
   ]
  },
  {
   "cell_type": "code",
   "execution_count": 17,
   "metadata": {},
   "outputs": [
    {
     "name": "stdout",
     "output_type": "stream",
     "text": [
      "['Dentist' 'Dental Therapist' 'Advanced Practice Dental Therapist'\n",
      " 'Dental Laboratory Technician' 'Dental Assistant' 'Dental Hygienist']\n"
     ]
    }
   ],
   "source": [
    "#Checking all terms fit in this category\n",
    "print(dental)"
   ]
  },
  {
   "cell_type": "code",
   "execution_count": 18,
   "metadata": {},
   "outputs": [],
   "source": [
    "#Creating emergency medicine grouping but removed the non-emergency description\n",
    "df['specialty_description'] = df['specialty_description'].replace(dental, 'Dentist')"
   ]
  },
  {
   "cell_type": "code",
   "execution_count": 19,
   "metadata": {},
   "outputs": [],
   "source": [
    "#Creating a list of all descriptions that include cardio\n",
    "cardio_check = df['specialty_description'].str.contains('cardio|cardiac|vascular', case=False)\n",
    "cardio_true = df[cardio_check]\n",
    "cardio = cardio_true['specialty_description'].unique()"
   ]
  },
  {
   "cell_type": "code",
   "execution_count": 20,
   "metadata": {},
   "outputs": [
    {
     "name": "stdout",
     "output_type": "stream",
     "text": [
      "['Cardiology' 'Interventional Cardiology'\n",
      " 'Advanced Heart Failure and Transplant Cardiology'\n",
      " 'Clinical Cardiac Electrophysiology' 'Peripheral Vascular Disease'\n",
      " 'Technician, Cardiology' 'Specialist/Technologist Cardiovascular']\n"
     ]
    }
   ],
   "source": [
    "#Checking all terms fit in this category\n",
    "print(cardio)"
   ]
  },
  {
   "cell_type": "code",
   "execution_count": 21,
   "metadata": {},
   "outputs": [],
   "source": [
    "#Creating cardiology group\n",
    "df['specialty_description'] = df['specialty_description'].replace(cardio, 'Cardiologist')"
   ]
  },
  {
   "cell_type": "code",
   "execution_count": 22,
   "metadata": {},
   "outputs": [],
   "source": [
    "#Creating a list of all descriptions that include general nurse\n",
    "nurse_check = df['specialty_description'].str.contains('nurs', case=False)\n",
    "nurse_true = df[nurse_check]\n",
    "nurse = nurse_true['specialty_description'].unique()"
   ]
  },
  {
   "cell_type": "code",
   "execution_count": 23,
   "metadata": {},
   "outputs": [
    {
     "name": "stdout",
     "output_type": "stream",
     "text": [
      "['Nurse Practitioner' 'Certified Nurse Midwife'\n",
      " 'Certified Clinical Nurse Specialist' 'Registered Nurse'\n",
      " 'Licensed Practical Nurse' 'Skilled Nursing Facility'\n",
      " 'Licensed Vocational Nurse' \"Nurse's Aide\"\n",
      " 'Religious Nonmedical Nursing Personnel' 'Other Nursing Facility']\n"
     ]
    }
   ],
   "source": [
    "print(nurse)"
   ]
  },
  {
   "cell_type": "code",
   "execution_count": 24,
   "metadata": {},
   "outputs": [],
   "source": [
    "#Creating nurse grouping\n",
    "df['specialty_description'] = df['specialty_description'].replace(nurse, 'Nurse')"
   ]
  },
  {
   "cell_type": "code",
   "execution_count": 25,
   "metadata": {},
   "outputs": [],
   "source": [
    "#Creating a list of all descriptions that include general diet or nutritional specialties \n",
    "peds_check = df['specialty_description'].str.contains('pedia', case=False)\n",
    "peds_true = df[peds_check]\n",
    "peds = peds_true['specialty_description'].unique()"
   ]
  },
  {
   "cell_type": "code",
   "execution_count": 26,
   "metadata": {},
   "outputs": [
    {
     "name": "stdout",
     "output_type": "stream",
     "text": [
      "['Pediatric Medicine' 'Pediatrics']\n"
     ]
    }
   ],
   "source": [
    "print(peds)"
   ]
  },
  {
   "cell_type": "code",
   "execution_count": 27,
   "metadata": {},
   "outputs": [],
   "source": [
    "df['specialty_description'] = df['specialty_description'].replace(peds, 'Pediatrics')"
   ]
  },
  {
   "cell_type": "code",
   "execution_count": 28,
   "metadata": {},
   "outputs": [],
   "source": [
    "#Creating a list of all descriptions that include physical, podiatry or ortho related fields \n",
    "physical_check = df['specialty_description'].str.contains('physical|ortho|pod|sports', case=False)\n",
    "physical_true = df[physical_check]\n",
    "physical = physical_true['specialty_description'].unique()"
   ]
  },
  {
   "cell_type": "code",
   "execution_count": 29,
   "metadata": {},
   "outputs": [
    {
     "name": "stdout",
     "output_type": "stream",
     "text": [
      "['Physical Medicine and Rehabilitation' 'Podiatry' 'Sports Medicine'\n",
      " 'Physical Therapist in Private Practice'\n",
      " 'Physical Medicine & Rehabilitation' 'Physical Therapy Assistant'\n",
      " 'Orthotic Fitter' 'Residential Treatment Facility, Physical Disabilities'\n",
      " 'Assistant, Podiatric']\n"
     ]
    }
   ],
   "source": [
    "print(physical)"
   ]
  },
  {
   "cell_type": "code",
   "execution_count": 30,
   "metadata": {},
   "outputs": [],
   "source": [
    "df['specialty_description'] = df['specialty_description'].replace(physical, 'Physical Medicine')"
   ]
  },
  {
   "cell_type": "code",
   "execution_count": 31,
   "metadata": {},
   "outputs": [],
   "source": [
    "#Combining similar fields\n",
    "df['specialty_description']= df['specialty_description'].replace(['Family Practice', 'General Practice', 'Family Medicine'], 'General/Family Practice')"
   ]
  },
  {
   "cell_type": "code",
   "execution_count": 32,
   "metadata": {},
   "outputs": [],
   "source": [
    "#Creating a list of all descriptions that include radiology \n",
    "radio_check = df['specialty_description'].str.contains('radio|radia', case=False)\n",
    "radio_true = df[radio_check]\n",
    "radio = radio_true['specialty_description'].unique()"
   ]
  },
  {
   "cell_type": "code",
   "execution_count": 33,
   "metadata": {},
   "outputs": [
    {
     "name": "stdout",
     "output_type": "stream",
     "text": [
      "['Diagnostic Radiology' 'Interventional Radiology' 'Radiology'\n",
      " 'Radiology Practitioner Assistant' 'Radiologic Technologist'\n",
      " 'Radiation Therapy Center']\n"
     ]
    }
   ],
   "source": [
    "print(radio)"
   ]
  },
  {
   "cell_type": "code",
   "execution_count": 34,
   "metadata": {},
   "outputs": [],
   "source": [
    "df['specialty_description'] = df['specialty_description'].replace(radio, 'Radiology')"
   ]
  },
  {
   "cell_type": "code",
   "execution_count": 35,
   "metadata": {},
   "outputs": [],
   "source": [
    "#Creating a list of all optometry/eye descriptions \n",
    "eye_check = df['specialty_description'].str.contains('eye|opt|ophtha', case=False)\n",
    "eye_true = df[eye_check]\n",
    "eye = eye_true['specialty_description'].unique()"
   ]
  },
  {
   "cell_type": "code",
   "execution_count": 36,
   "metadata": {},
   "outputs": [
    {
     "name": "stdout",
     "output_type": "stream",
     "text": [
      "['Optometry' 'Ophthalmology' 'Optician']\n"
     ]
    }
   ],
   "source": [
    "print(eye)"
   ]
  },
  {
   "cell_type": "code",
   "execution_count": 37,
   "metadata": {},
   "outputs": [],
   "source": [
    "df['specialty_description'] = df['specialty_description'].replace(eye, 'Optometry/Ophthalmology')"
   ]
  },
  {
   "cell_type": "code",
   "execution_count": 38,
   "metadata": {},
   "outputs": [],
   "source": [
    "#Combining similar fields from visual check\n",
    "df['specialty_description']= df['specialty_description'].replace(['Nephrology', 'Endocrinology', 'Hematology', 'Gastroenterology'], 'Internal Medicine')"
   ]
  },
  {
   "cell_type": "code",
   "execution_count": 39,
   "metadata": {},
   "outputs": [],
   "source": [
    "#Creating a list of all immunology grouping \n",
    "immune_check = df['specialty_description'].str.contains('rheu|aller|immun', case=False)\n",
    "immune_true = df[immune_check]\n",
    "immune = immune_true['specialty_description'].unique()"
   ]
  },
  {
   "cell_type": "code",
   "execution_count": 40,
   "metadata": {},
   "outputs": [
    {
     "name": "stdout",
     "output_type": "stream",
     "text": [
      "['Rheumatology' 'Allergy/ Immunology' 'Mass Immunizer Roster Biller']\n"
     ]
    }
   ],
   "source": [
    "print(immune)"
   ]
  },
  {
   "cell_type": "code",
   "execution_count": 41,
   "metadata": {},
   "outputs": [],
   "source": [
    "df['specialty_description']= df['specialty_description'].replace(immune, 'Allergy/Immunology')"
   ]
  },
  {
   "cell_type": "code",
   "execution_count": 42,
   "metadata": {},
   "outputs": [],
   "source": [
    "#Creating a pain category\n",
    "pain_check = df['specialty_description'].str.contains('pain|hospice', case=False)\n",
    "pain_true = df[pain_check]\n",
    "pain = pain_true['specialty_description'].unique()"
   ]
  },
  {
   "cell_type": "code",
   "execution_count": 43,
   "metadata": {},
   "outputs": [
    {
     "name": "stdout",
     "output_type": "stream",
     "text": [
      "['Pain Management' 'Hospice and Palliative Care'\n",
      " 'Interventional Pain Management']\n"
     ]
    }
   ],
   "source": [
    "print(pain)"
   ]
  },
  {
   "cell_type": "code",
   "execution_count": 44,
   "metadata": {},
   "outputs": [],
   "source": [
    "df['specialty_description']= df['specialty_description'].replace(pain, 'Pain/Palliative Care')"
   ]
  },
  {
   "cell_type": "code",
   "execution_count": 45,
   "metadata": {},
   "outputs": [],
   "source": [
    "#Creating a pathology\n",
    "path_check = df['specialty_description'].str.contains('pathol', case=False)\n",
    "path_true = df[path_check]\n",
    "path = path_true['specialty_description'].unique()"
   ]
  },
  {
   "cell_type": "code",
   "execution_count": 46,
   "metadata": {},
   "outputs": [
    {
     "name": "stdout",
     "output_type": "stream",
     "text": [
      "['Pathology' 'Speech Language Pathologist'\n",
      " 'Specialist/Technologist, Pathology' 'Technician, Pathology']\n"
     ]
    }
   ],
   "source": [
    "print(path)"
   ]
  },
  {
   "cell_type": "code",
   "execution_count": 47,
   "metadata": {},
   "outputs": [],
   "source": [
    "df['specialty_description']= df['specialty_description'].replace(path, 'Pathology')"
   ]
  },
  {
   "cell_type": "code",
   "execution_count": 48,
   "metadata": {},
   "outputs": [],
   "source": [
    "pulm_check = df['specialty_description'].str.contains('pulm|respir', case=False)\n",
    "pulm_true = df[pulm_check]\n",
    "pulmonary = pulm_true['specialty_description'].unique()"
   ]
  },
  {
   "cell_type": "code",
   "execution_count": 49,
   "metadata": {},
   "outputs": [
    {
     "name": "stdout",
     "output_type": "stream",
     "text": [
      "['Pulmonary Disease' 'Respiratory Therapist, Registered'\n",
      " 'Respiratory Therapist, Certified']\n"
     ]
    }
   ],
   "source": [
    "print(pulmonary)"
   ]
  },
  {
   "cell_type": "code",
   "execution_count": 50,
   "metadata": {},
   "outputs": [],
   "source": [
    "df['specialty_description']= df['specialty_description'].replace(pulmonary, 'Respiratory/Pulmonary')"
   ]
  },
  {
   "cell_type": "code",
   "execution_count": 51,
   "metadata": {},
   "outputs": [],
   "source": [
    "pharma_check = df['specialty_description'].str.contains('pharma', case=False)\n",
    "pharma_true = df[pharma_check]\n",
    "pharma = pharma_true['specialty_description'].unique()"
   ]
  },
  {
   "cell_type": "code",
   "execution_count": 52,
   "metadata": {},
   "outputs": [
    {
     "name": "stdout",
     "output_type": "stream",
     "text": [
      "['Pharmacist' 'Clinical Pharmacology' 'Pharmacy Technician']\n"
     ]
    }
   ],
   "source": [
    "print(pharma)"
   ]
  },
  {
   "cell_type": "code",
   "execution_count": 53,
   "metadata": {},
   "outputs": [],
   "source": [
    "df['specialty_description']= df['specialty_description'].replace(pharma, 'Pharmacist/Pharmacology')"
   ]
  },
  {
   "cell_type": "code",
   "execution_count": 54,
   "metadata": {},
   "outputs": [],
   "source": [
    "#Classifying all values that appear less than 675 times as 'other'\n",
    "unique = df.groupby('specialty_description').filter(lambda x:len(x) < 675)\n",
    "few = unique['specialty_description'].unique()"
   ]
  },
  {
   "cell_type": "code",
   "execution_count": 55,
   "metadata": {},
   "outputs": [],
   "source": [
    "df['specialty_description']= df['specialty_description'].replace(few, 'Other/Undefined')"
   ]
  },
  {
   "cell_type": "code",
   "execution_count": 56,
   "metadata": {},
   "outputs": [],
   "source": [
    "#Combining other fields\n",
    "df['specialty_description']= df['specialty_description'].replace(['Hospitalist', 'Specialist', 'Preventive Medicine', 'Critical Care (Intensivists)', 'Naturopath', 'Other'], 'Other/Undefined')"
   ]
  },
  {
   "cell_type": "code",
   "execution_count": 57,
   "metadata": {},
   "outputs": [],
   "source": [
    "#cleaning up the student field\n",
    "df['specialty_description'] = df['specialty_description'].str.replace('Student in an Organized Health Care Education/Training Program', 'Student')"
   ]
  },
  {
   "cell_type": "code",
   "execution_count": 58,
   "metadata": {},
   "outputs": [
    {
     "data": {
      "text/plain": [
       "Nurse                                160125\n",
       "Internal Medicine                    159155\n",
       "Dentist                              130663\n",
       "General/Family Practice              120913\n",
       "Physician Assistant                   92495\n",
       "Surgery                               77271\n",
       "Psychiatry/Psychology & Neurology     60684\n",
       "Student                               53815\n",
       "Optometry/Ophthalmology               49253\n",
       "Emergency Medicine                    48598\n",
       "Obstetrics & Gynecology               35496\n",
       "Cardiologist                          25540\n",
       "Physical Medicine                     25017\n",
       "Oncology                              18066\n",
       "Other/Undefined                       17140\n",
       "Dermatology                           13297\n",
       "Pediatrics                            10965\n",
       "Urology                               10707\n",
       "Otolaryngology                        10461\n",
       "Respiratory/Pulmonary                  9469\n",
       "Allergy/Immunology                     8743\n",
       "Pharmacist/Pharmacology                6691\n",
       "Infectious Disease                     5383\n",
       "Radiology                              5138\n",
       "Pain/Palliative Care                   4873\n",
       "Geriatric Medicine                     1921\n",
       "Pathology                              1019\n",
       "Name: specialty_description, dtype: int64"
      ]
     },
     "execution_count": 58,
     "metadata": {},
     "output_type": "execute_result"
    }
   ],
   "source": [
    "#Looking at final classifications\n",
    "df['specialty_description'].value_counts()"
   ]
  },
  {
   "cell_type": "markdown",
   "metadata": {},
   "source": [
    "## Transforming credentials"
   ]
  },
  {
   "cell_type": "code",
   "execution_count": 59,
   "metadata": {},
   "outputs": [
    {
     "data": {
      "text/plain": [
       "M.D.                    292988\n",
       "MD                      277584\n",
       "DDS                      50865\n",
       "PA-C                     45393\n",
       "D.O.                     39715\n",
       "D.D.S.                   31981\n",
       "DO                       25768\n",
       "NP                       25175\n",
       "DMD                      21202\n",
       "PA                       20146\n",
       "O.D.                     18786\n",
       "FNP                      16461\n",
       "D.M.D.                   12379\n",
       "ARNP                     11846\n",
       "M.D                      11637\n",
       "DPM                      10070\n",
       "APRN                      9337\n",
       "OD                        8523\n",
       "CRNP                      7589\n",
       "FNP-C                     6480\n",
       "P.A.                      6293\n",
       "NP-C                      6047\n",
       "N.P.                      4888\n",
       "CNP                       4687\n",
       "FNP-BC                    4531\n",
       "D.D.S                     4362\n",
       "D.P.M.                    4123\n",
       "APN                       3902\n",
       "PAC                       3762\n",
       "D.M.D                     2738\n",
       "                         ...  \n",
       "D.D.S. LTD.                  1\n",
       "ARPN, FNP-C                  1\n",
       "MD, MBBS, MPH                1\n",
       "RN, NP ,PA                   1\n",
       "D.D.S., M.S., P.H.D.         1\n",
       "RN, APN-NP                   1\n",
       "JD, DO                       1\n",
       "D.D.S,P.S.                   1\n",
       "GNP, CHPN                    1\n",
       "M.S.N., F.N.P-BC             1\n",
       "DPM PT                       1\n",
       "BS, DPM                      1\n",
       "MHS, RPA-C                   1\n",
       "NP, ANP                      1\n",
       "DRPH, MSN, NP-C              1\n",
       "WHNP-BC, ANP-C               1\n",
       "D.D.S., D.M.D                1\n",
       "CNM.                         1\n",
       "DPM, PLLC                    1\n",
       "MB,BCH                       1\n",
       "M.D., F.R.S.C. (C)           1\n",
       "PHD APRN-C                   1\n",
       "MSN,APN,FNP                  1\n",
       "RPH, CGP, CACP               1\n",
       "RC, WHNP                     1\n",
       "PA-C/NP                      1\n",
       "MD,  FCCP, D-ABSM            1\n",
       "NP APN                       1\n",
       "ARNP PSYCH                   1\n",
       "M.ED., PA-C                  1\n",
       "Name: nppes_credentials, Length: 15790, dtype: int64"
      ]
     },
     "execution_count": 59,
     "metadata": {},
     "output_type": "execute_result"
    }
   ],
   "source": [
    "df['nppes_credentials'].value_counts()"
   ]
  },
  {
   "cell_type": "code",
   "execution_count": 60,
   "metadata": {},
   "outputs": [],
   "source": [
    "#Dropping the periods to harmonize entries\n",
    "df['nppes_credentials'] = df['nppes_credentials'].str.replace(r'.', '')"
   ]
  },
  {
   "cell_type": "code",
   "execution_count": 61,
   "metadata": {},
   "outputs": [],
   "source": [
    "#Dropping the Certified (-C) credential to combine the same credentials together, certified or not\n",
    "df['nppes_credentials'] = df['nppes_credentials'].str.replace(r'-C', '')"
   ]
  },
  {
   "cell_type": "code",
   "execution_count": 62,
   "metadata": {},
   "outputs": [],
   "source": [
    "#Dropping out the Board Certified (-BC) credentials to combine the same credentials together\n",
    "#Dropping periods to merge the same abbreviation but with different punctuation\n",
    "df['nppes_credentials'] = df['nppes_credentials'].str.replace(r'-BC', '')"
   ]
  },
  {
   "cell_type": "code",
   "execution_count": 63,
   "metadata": {},
   "outputs": [],
   "source": [
    "#Standardizing the commas vs spaces between various credentials\n",
    "df['nppes_credentials'] = df['nppes_credentials'].str.replace(r' ', '')\n",
    "df['nppes_credentials'] = df['nppes_credentials'].str.replace(r',', ', ')"
   ]
  },
  {
   "cell_type": "code",
   "execution_count": 64,
   "metadata": {},
   "outputs": [],
   "source": [
    "#Dropping dashed to merge the same abbreviation but with different punctuation\n",
    "df['nppes_credentials']= df['nppes_credentials'].str.replace(r'-', '')"
   ]
  },
  {
   "cell_type": "code",
   "execution_count": 65,
   "metadata": {},
   "outputs": [],
   "source": [
    "#Splitting columns by comma\n",
    "df1 = pd.concat([df, df['nppes_credentials'].str.split(', ', expand=True)], axis=1)"
   ]
  },
  {
   "cell_type": "code",
   "execution_count": 66,
   "metadata": {},
   "outputs": [
    {
     "data": {
      "text/plain": [
       "Index([                             'npi',     'nppes_provider_last_org_name',\n",
       "              'nppes_provider_first_name',                'nppes_provider_mi',\n",
       "                      'nppes_credentials',            'nppes_provider_gender',\n",
       "                      'nppes_entity_code',           'nppes_provider_street1',\n",
       "                    'nppes_provider_city',              'nppes_provider_zip5',\n",
       "                  'specialty_description',                 'description_flag',\n",
       "           'medicare_prvdr_enroll_status',                'total_claim_count',\n",
       "                'total_30_day_fill_count',                  'total_drug_cost',\n",
       "                       'total_day_supply',                       'bene_count',\n",
       "                     'ge65_suppress_flag',           'total_claim_count_ge65',\n",
       "           'total_30_day_fill_count_ge65',             'total_drug_cost_ge65',\n",
       "                  'total_day_supply_ge65',    'bene_count_ge65_suppress_flag',\n",
       "                        'bene_count_ge65',              'brand_suppress_flag',\n",
       "                      'brand_claim_count',                  'brand_drug_cost',\n",
       "                  'generic_suppress_flag',              'generic_claim_count',\n",
       "                      'generic_drug_cost',              'other_suppress_flag',\n",
       "                      'other_claim_count',                  'other_drug_cost',\n",
       "                     'mapd_suppress_flag',                 'mapd_claim_count',\n",
       "                         'mapd_drug_cost',                'pdp_suppress_flag',\n",
       "                        'pdp_claim_count',                    'pdp_drug_cost',\n",
       "                      'lis_suppress_flag',                  'lis_claim_count',\n",
       "                          'lis_drug_cost',             'nonlis_suppress_flag',\n",
       "                     'nonlis_claim_count',                 'nonlis_drug_cost',\n",
       "                     'opioid_claim_count',                 'opioid_drug_cost',\n",
       "                      'opioid_day_supply',                'opioid_bene_count',\n",
       "                 'opioid_prescriber_rate',            'la_opioid_claim_count',\n",
       "                    'la_opioid_drug_cost',             'la_opioid_day_supply',\n",
       "                   'la_opioid_bene_count',        'la_opioid_prescriber_rate',\n",
       "                 'antibiotic_claim_count',             'antibiotic_drug_cost',\n",
       "                  'antibiotic_bene_count',     'antipsych_ge65_suppress_flag',\n",
       "             'antipsych_claim_count_ge65',         'antipsych_drug_cost_ge65',\n",
       "       'antipsych_bene_ge65_suppress_flg',        'antipsych_bene_count_ge65',\n",
       "           'average_age_of_beneficiaries',         'beneficiary_female_count',\n",
       "                 'beneficiary_male_count',        'beneficiary_nondual_count',\n",
       "                 'beneficiary_dual_count',   'beneficiary_average_risk_score',\n",
       "                               'EXCLYear',                         'REINYear',\n",
       "                              'excl_type',                   'exclusion_flag',\n",
       "                                'country',                            'state',\n",
       "                                        0,                                  1,\n",
       "                                        2,                                  3,\n",
       "                                        4,                                  5],\n",
       "      dtype='object')"
      ]
     },
     "execution_count": 66,
     "metadata": {},
     "output_type": "execute_result"
    }
   ],
   "source": [
    "df1.columns"
   ]
  },
  {
   "cell_type": "code",
   "execution_count": 67,
   "metadata": {},
   "outputs": [],
   "source": [
    "#For classification purposes, will only look at the first credential listed so removing columns 1, 2, 3, 4, 5 as well as the orginal column\n",
    "df2 = df1.drop(columns = ['nppes_credentials', 1, 2, 3, 4, 5])"
   ]
  },
  {
   "cell_type": "code",
   "execution_count": 68,
   "metadata": {},
   "outputs": [
    {
     "data": {
      "text/plain": [
       "MD                     598881\n",
       "DDS                     91172\n",
       "PA                      75791\n",
       "DO                      69258\n",
       "DMD                     37966\n",
       "NP                      37010\n",
       "FNP                     29541\n",
       "OD                      28331\n",
       "DPM                     14962\n",
       "ARNP                    13488\n",
       "APRN                    12473\n",
       "CRNP                     8135\n",
       "CNP                      5099\n",
       "PAC                      5070\n",
       "APN                      4884\n",
       "RN                       4752\n",
       "MSN                      3774\n",
       "PHARMD                   3608\n",
       "ANP                      3206\n",
       "CNM                      2177\n",
       "DNP                      2018\n",
       "MBBS                     1791\n",
       "RPA                      1779\n",
       "PMHNP                    1683\n",
       "NURSEPRACTITIONER        1616\n",
       "ACNP                     1445\n",
       "APNP                     1345\n",
       "RPH                      1304\n",
       "MS                       1203\n",
       "PHYSICIANASSISTANT       1177\n",
       "                        ...  \n",
       "MDFACSRPVIRVTRDM            1\n",
       "MDMPU                       1\n",
       "RNACNS                      1\n",
       "DDCPC                       1\n",
       "APN/CRNP/FNP                1\n",
       "PHDAPN                      1\n",
       "MSNCSNPP                    1\n",
       "NPANDCNS                    1\n",
       "MSNPMHNPFNP                 1\n",
       "RADINTERN                   1\n",
       "CERTIFIEDFNP                1\n",
       "PMHAPRN                     1\n",
       "DME                         1\n",
       "MBBCHBAOLRCPSI              1\n",
       "AOCNS                       1\n",
       "MASTERSOFNURSING            1\n",
       "MDDPH                       1\n",
       "KEVINCHAN                   1\n",
       "PHYSICIANASSISATANT         1\n",
       "AND                         1\n",
       "AGPCNPNP                    1\n",
       "ROEYPASTERNAK               1\n",
       "FNPCANDIDATE                1\n",
       "NPMSNMPH                    1\n",
       "PMHNPBBC                    1\n",
       "ZACHARYREICHER              1\n",
       "RPHPHARMACIST               1\n",
       "DENTISTENDODONTIST          1\n",
       "MDMBBSFRCSC                 1\n",
       "(MBBS                       1\n",
       "Name: 0, Length: 3728, dtype: int64"
      ]
     },
     "execution_count": 68,
     "metadata": {},
     "output_type": "execute_result"
    }
   ],
   "source": [
    "#Looking at values with just one credential\n",
    "df2[0].value_counts()"
   ]
  },
  {
   "cell_type": "code",
   "execution_count": 70,
   "metadata": {},
   "outputs": [],
   "source": [
    "#Inserting blank for null values\n",
    "df2[0].fillna('Unknown', inplace = True)"
   ]
  },
  {
   "cell_type": "code",
   "execution_count": 71,
   "metadata": {},
   "outputs": [],
   "source": [
    "#Lumping credentials together starting with dentist\n",
    "dentist_check = df2[0].str.contains('dentist|DMD|DDS', case=False)\n",
    "dentist_true = df2[dentist_check]\n",
    "dentist = dentist_true[0].unique()"
   ]
  },
  {
   "cell_type": "code",
   "execution_count": 72,
   "metadata": {},
   "outputs": [
    {
     "name": "stdout",
     "output_type": "stream",
     "text": [
      "['DDS' 'DMDPA' 'DMD' 'DDSPHD' 'DENTIST' 'DDSMAGD' 'PHARMD;DDS' 'DDSMBAPA'\n",
      " 'DDSMSFAGD' 'DDSMS' 'DDSPC' 'DDSMD' 'DDSDENTIST' 'DMDMDS' 'DDSMSPHD'\n",
      " 'GENERALDENTIST' 'BSDDS' 'DMDPSC' 'DMDDRMEDDENT' 'DMDMAGD' 'DMDMD'\n",
      " 'DDSMSD' 'PHDDMD' 'DMDPC' 'DDSMSCDDSCDSCD' 'DMDLLC' 'MDDDS' 'ODMD'\n",
      " 'DDSMSCDPC' 'MDDMD' 'PHDMD' 'DENTISTDDS' 'DDSPA' 'DDSMSC' 'DMDMSD'\n",
      " 'DDSLTD' 'DDSMPH' 'DDSINC' 'DMDMSED' 'DDSPS' 'DDSMSPA' 'DDSRPH' 'DMDMPH'\n",
      " 'DDSENDODONTICS' 'DMDMS' 'DDSSC' 'DMDPHD' 'DDSPROSTHODONTIST' 'DDSMDS'\n",
      " 'GENERALDENTISTDDS' 'BSDMDMS' 'DMD;MSD' 'DMD>' 'DDSGENERAL' 'DMDMMSC'\n",
      " '(DDS)' 'MSDMDMD' 'DCHDDMDMSCD' 'DMDD' 'DRDMD' 'DDSQ' 'DDS>' 'MSDDS'\n",
      " 'DMDDENTIST' 'DDSMSPC' 'DDSMDSPHD' 'DMDMSC' 'DDS;PC' 'TERENCEPEGELDDS'\n",
      " 'DMDFAGD' 'DDSDMD' 'DMDMSDPA' 'ODPHDDSC' 'DDSPLC' 'DDSFAGD'\n",
      " 'BSDDSFAAMPFACP' 'DDSPSC' 'DDSOWNER' 'DMDPROSTHODONTIST'\n",
      " 'ANDREALISOWSKIDMD' 'DRDDS' 'ABDDS' 'MSDMD' 'DDS;MD' 'DMDMDMPH' 'MDMD'\n",
      " 'DDSPLLC' 'DDSBSBIOLOGY' 'MSDDSMAGD' 'DDSFICOI' 'DDSOMS' 'DRDENTIST'\n",
      " 'DDSRPHPA' 'DDSCAGS' 'DDS/' 'DMDM' 'DDSMSMSD' 'DMDPLLC' 'DDDS'\n",
      " 'DMD;PROSTHODONTIST' 'DMDMDLLC' 'DDSDMDMD' 'DMDPS' 'PAANDDMD'\n",
      " 'DENTISTDMDPC' 'ROBERTSWIERDDS' 'DDSBDS' 'DDSANDMD' 'DENTISTGPDMD'\n",
      " 'HERSCHELROSSDDS' 'DDSS' 'DDSMAGDFICOI' 'DMD/MA' 'ENDODONTISTDDS'\n",
      " 'DDSMSBA' 'MDPHDDDS' 'DDSMBA' 'DENTISTGENERAL' 'BDSDMD' '(DMD)'\n",
      " 'DDSORALANDMAXILLO' 'DDS/DENTIST' 'DMDBS' 'DMDI' 'BSDDSPC' 'DDSFAGDLLC'\n",
      " 'DMDRN' 'DDSMDPS' 'DMDLTD' 'DMDMSN' 'DDSFAGDCDT' 'STEPHENRATCLIFFDDS'\n",
      " 'DDS/MD' 'DRMEDICALDENTISTRY' 'DDSMSCD' 'DDS(ORALSURGEON)'\n",
      " 'GENERALDENTISTRY' 'MD/DDS' 'DDS&MD' 'DDS/DMD' 'PHDMDFACC' 'DMDMA'\n",
      " 'DDSPCMA' 'DDSDOCTOROFDENTAL' 'DDSMMSL' 'DMDFACD' 'DMDOMS' 'PENDINGDDS'\n",
      " 'DDS&MSC' 'DMDENDODONTIST' 'BDS(DDS)' 'DDSLLC' 'DMDMSPA'\n",
      " 'DDSDIPLOMATEOFTHE' 'DMDDDS' 'DDSMED' 'DDSORALSURGEON' 'PERIODONTISTDDS'\n",
      " 'DDSMDPA' 'DDSMSCFADI' 'JOSEFVILLALUZDMD' 'DDS;MDS' 'DDSCDT' 'MSDDDS'\n",
      " 'DMDBA' 'DENTISTENDODONTIST' 'DDSGENERALDENTIST' 'MICHAELCLIFFORDMD'\n",
      " 'PAULLEVENTHALDDS' 'DMDFAACP' 'JAMESCHIANGDDS' 'DDS;MS'\n",
      " 'DDSGENERALDENTISTR' 'MADDS' 'DMDMSCD' 'DDSDENTISTRY' 'LICENSEDDENTIST'\n",
      " 'DDSFICD' 'DDSMSDINC' 'DDSDDS' 'MAGDDDS' 'DDSDICOIAAACD' 'MDDSC'\n",
      " 'DDS;MSD' 'MSPHDMDPA' 'BDSDDS' 'KENMARRIOTTDDS' 'DMD;MS' 'DDSMSDPS'\n",
      " 'DMDDENTISTRY' 'RNBSNDDS' 'PHDDSNNP' 'DENTISTDMD' 'CRNPANDDSN' 'DDS;MSCD'\n",
      " 'DDSMSPLC' 'DDSP' 'DENTISTA' 'DMDP' 'DDSAPDC' 'DDS(PEDIATRICS)'\n",
      " 'DENTISTRY' 'DMDMHS' 'DDSMSCS' 'MDPHDDSC' 'DDSCAGSDSCD' 'DMDABDG'\n",
      " 'DDSFAACP' 'DDSENDODONTICSSPEC' 'DMDPCFAGD' 'DDSND' 'DMDDSC' 'DDSDOSMS'\n",
      " 'LYNDONFONGDDSMS' 'DDS/PHD' 'RICHARDVOLKERDDS' 'PCDMDMD' 'MSDMDPA'\n",
      " 'DMDINC' 'DDSMHA' 'BSDDSMS' 'DMDIBOARDCERTIFICA' 'DDSMSMED'\n",
      " 'JOHNMCDANIELDDS' 'DDSMSDMSC' 'DDSPRACTICELIMITE' 'DDS/MPH' 'DMDMDMS'\n",
      " 'DDSMSHS' 'DDSMSDPHD' 'MDDDSPA' 'MUDRDDSMS' 'DDS;PA' 'DDSLDSRCSMS'\n",
      " 'GENERALDENTISTDMD' 'MDDDSPHD' 'DMDPERIODONTIST' 'ROBERTMHARKINSDMD'\n",
      " 'WALTERHUNTDDS' 'DDSDOS' 'JIMRUCKMANDMD' 'DMDZ' 'PHARMDMD' 'BDSMDSDDS'\n",
      " 'ROBERTSCHESTAKDMD' 'DMDMBA' 'BADDS' 'ROBINALBRIGHTDDS' 'DMDMSDPHD'\n",
      " 'DDSREGISTEREDPHARM' 'DMDFAGDPC' 'DMDCAGS' 'DDSIMPLANTS' 'DDSPCGP'\n",
      " 'JAMESKGUEBERTDDS' 'DDSMSPLLC' 'KEVINARTIMEDMD' 'KENNETHHOELZLEDDS'\n",
      " 'MANAMIYAMAGUCHIDMD' 'BDSDENTIST' 'DDSENDO' 'SAGETHAMESDDS' 'DDSPCFAGD'\n",
      " 'DMDDOCTORATEOFDEN' 'DDSFAGDPC' 'DDSJD' 'MD&DDS' 'DDS<LLC' 'DDSFRCDC(C)'\n",
      " 'DDSAPROFDENTCORP' 'DOCTOROFDENTISTRY' 'DMDJDPA' 'DDSPERIODONTIST'\n",
      " 'DDSDOCTORATEDENTAL' 'GARYWPENNDDS' 'DDSFACP' 'DDSDOCTOROFDENTIS'\n",
      " 'BSDMDPA' 'PSYDMD' 'DDSMDJD' 'BSCDDSMSCFRCD(C)' 'JDMD' 'DDSDHSC'\n",
      " 'DDSMPHMSD' 'MARKMABERLEYDDS' 'PDDDS' 'DMDMDCFCDSAOMFS' 'DMD(DENTIST)'\n",
      " 'DMDBDS' 'DDSMMSC' 'DDSFCH' 'MDDDSFACS' 'GURPREETNARULADDS' 'DDSNEW'\n",
      " 'MARTANIETODDS' 'DMDQ' 'DDS&MS' '(DENTIST)DDSPC']\n"
     ]
    }
   ],
   "source": [
    "print(dentist)"
   ]
  },
  {
   "cell_type": "code",
   "execution_count": 73,
   "metadata": {},
   "outputs": [],
   "source": [
    "#One value in the above (PHDMD) shouldn't be included so converting that to catch with the MD code\n",
    "df2[0] = df2[0].str.replace('PHDMD', 'MDPHD')"
   ]
  },
  {
   "cell_type": "code",
   "execution_count": 74,
   "metadata": {},
   "outputs": [],
   "source": [
    "#Rerunning now that the PHDMD will not be caught\n",
    "dentist_check = df2[0].str.contains('dentist|DMD|DDS', case=False)\n",
    "dentist_true = df2[dentist_check]\n",
    "dentist = dentist_true[0].unique()"
   ]
  },
  {
   "cell_type": "code",
   "execution_count": 75,
   "metadata": {},
   "outputs": [],
   "source": [
    "#Converting all entries to dentist\n",
    "df2[0] = df2[0].replace(dentist, 'Dentist/DDS')"
   ]
  },
  {
   "cell_type": "code",
   "execution_count": 76,
   "metadata": {},
   "outputs": [],
   "source": [
    "#Classifying pharmacists\n",
    "pharma_check = df2[0].str.contains('PHARM|RPH', case=False)\n",
    "pharma_true = df2[pharma_check]\n",
    "pharma = pharma_true[0].unique()"
   ]
  },
  {
   "cell_type": "code",
   "execution_count": 77,
   "metadata": {},
   "outputs": [
    {
     "name": "stdout",
     "output_type": "stream",
     "text": [
      "['PHARMD' 'RPH' 'RPHD' 'PHARMACIST' 'MSPHARM' 'PHARMD/RPH' 'MPHARM'\n",
      " 'BSPHARM' 'RPHBCACP' 'BSPHARMACY' 'BPHARM' 'REGISTEREDPHARMACIS'\n",
      " 'DOCTOROFPHARMACY' 'MD/PHARMD' 'PHARMD;RPH' 'PHARM' 'PHARMDPHC'\n",
      " 'RPHCALIFORNIA' 'DO;PHARMD' 'DRPH' 'BSCPHARM' 'BSCINPHARMACY'\n",
      " 'PHARMD(PHARMACIST)' 'RPHMBA' 'CLINICALPHARMACIST' 'PHARMACISTMANAGER'\n",
      " 'PHARMDCACP' 'PHARMDMBA' 'PHARMDRPH' 'RPARPH' 'PHARMD>' 'DORPH'\n",
      " 'MDPHARMD' 'DOANDPHARMD' 'MDRPH' 'PHARMDBCPP' 'PHARMD(RPH)'\n",
      " 'MBBCHIRPHDMHS' 'PHARMDBCPS' 'PHDRPH' 'MASTEROFPHARMACY'\n",
      " 'LICENSEDPHARMACIST' 'RPHLICENSE' 'PHARMDR' 'RPHCDM' 'PHARMACYINTERN'\n",
      " 'BSCPHARMACYRPH' 'BSOFPHARMACY' 'PHARMDCANDIDATE' 'BSCPHARMACY'\n",
      " 'INTERNPHARMACIST' 'BSRPH' 'BSPHARMAXCY' 'PHARMD/MBA' 'RPHPHARMACIST'\n",
      " 'REGPHARMACIST' 'MDDRPH' 'DOPHARMD' 'PHARMACISTLICENSE'\n",
      " 'PHARMACYDOCTORATE' 'RPH(PHARMACIST)' 'MD(PHARMD' 'PHARMACIST(PHARMD)'\n",
      " 'DOCTORATEOFPHARM']\n"
     ]
    }
   ],
   "source": [
    "print(pharma)"
   ]
  },
  {
   "cell_type": "code",
   "execution_count": 78,
   "metadata": {},
   "outputs": [],
   "source": [
    "df2[0] = df2[0].replace(pharma, 'Pharmacist')"
   ]
  },
  {
   "cell_type": "code",
   "execution_count": 79,
   "metadata": {},
   "outputs": [],
   "source": [
    "#Classifying everything with MD\n",
    "MD_check = df2[0].str.contains('MD|MEDICINE|MEDICAL', case=False)\n",
    "MD_true = df2[MD_check]\n",
    "MD = MD_true[0].unique()"
   ]
  },
  {
   "cell_type": "code",
   "execution_count": 80,
   "metadata": {},
   "outputs": [
    {
     "name": "stdout",
     "output_type": "stream",
     "text": [
      "['MD' 'MEDICINEDOCTORMD' 'MDPHD' 'MDGENERALSURGEON' 'MDFACS' 'NMDPMHNP'\n",
      " 'MD/PHD' 'MD/MPH' 'MEDICALDOCTOR' 'NMD' 'MDMPH' 'MDFACC'\n",
      " 'MDDIPLOMATEABFP' 'MDFACEP' 'MDLLC' 'MDFACP' 'MDFACOG' 'MDMBBCH'\n",
      " 'MDANDINTERNIST' 'MDAMEDICALCORPOR' 'MDPA' 'MDINC' 'MDFRCS(C)FACSFICS'\n",
      " 'MDCM' 'MDFAAFP' 'MD/MBBS' 'MDFAAP' 'MDMS' 'MDOPHTHALMOLOGIST' 'MD&DO'\n",
      " 'MDMPHFACOEM' 'DOMD' 'MBBS(MD)' 'MDMBA' 'MEDICALSTUDENT' 'MD/PA'\n",
      " 'MEDICALPHYSICIAN' 'MD;FACOG' 'MDMSC' 'MDMSCR' 'MDMACCDFACECDE' 'MDFCCP'\n",
      " 'MD(MBBS)' 'MDMPHMASTERSINPU' 'MDPC' 'MD(ENDOCRINOLOGIST)' 'PHDIMD'\n",
      " 'MDMACAE' 'MDBS' 'MDPHDMSCI' 'MD/MBA' 'OPHTHALMOLGISTMD' 'MDLAC' 'MDMPU'\n",
      " 'MEDICALDIRECTOR' 'MDFRCPC' 'MD(PCINCORPORAT' 'MEDICINEDOCTOR' 'PRARMD'\n",
      " 'MDPHDMRCP(UK)' 'MBBS(MDEQUIV)' 'OPMDPM' 'MDFACCFSCAI' 'MDMEPHDMA' 'MDMA'\n",
      " 'MDBSC' 'MD:' 'HOWARDESSNERMD' 'MD&PHD' 'MDFRCS' 'MBBSMD' 'MD>'\n",
      " 'MDMPHMBA' 'MD(H)' 'MDCANDIDATE' 'MD/DO' 'MDMRCPFRCR' 'MDFRCSC'\n",
      " 'MDFACCFACP' 'MDJD' 'MDDABPMFIPPMBA' 'MDINST' 'MDM' 'MDDO' 'PSYCHIATRYMD'\n",
      " 'MD;FACRRM;DCN;' 'FATIMAMALIKMD' 'BARANAKSUTMD' 'MD;MSC' 'MDFAC' 'MDPLC'\n",
      " 'MDMSN' 'MDPMC' 'INTERNALMEDICINEMD' 'FACEPMD' 'MDFAAD' 'MDMMSC'\n",
      " 'STUDENTMD' 'BDSMDSMSD' 'MD(RESIDENT)' 'MDPS' 'MDPSYCHIATRIST' 'MDFACE'\n",
      " 'MARGARETMERRIAMDO' 'MD(MEDSTUD)' 'MDMSCFACC' 'MDLTD' 'MDDABPMDAAPM'\n",
      " 'MDL' 'MBBS/MD' 'MDTE' 'MDPHYSICIAN/SURGEON' 'MD;MPH' 'MDESPGYNOBS'\n",
      " 'DR(MD)' 'MDOBGYN' 'NMDDC' 'MEDICALONCOLOGIST' 'MARKOPAULLUJICMD'\n",
      " 'CNMDNPLNC' 'MDIV' 'MDA' 'KELLEYPHILLIPSMD' 'MDOD' 'MDPAFACP' 'MDSC'\n",
      " 'MDFACPFRACP' 'MD/MHA' 'DPMMD' 'MBMD' 'MEDICALDORCTOR' 'INTERNALMEDICINE'\n",
      " 'MDFRCS(C)' 'MEDICINEGENERAL' 'MD(ANTICIPATED)' 'MDEAAFP' 'MDPEDIATRA'\n",
      " 'FACPMD' 'MDPHYSICIAN' 'MDMBAMHA' 'MDPHDFAAD' 'MDEDD' 'MDDPM'\n",
      " 'DPMDOCTOROFPODIAT' 'OMD' 'MDANDPHD' 'MDPCINC' 'MD;PHD' 'MD;'\n",
      " 'JAMESWTEAGUEMD' 'MD/MS' 'MDFRSCS' 'MARTINWOLPINMD' 'MDMPHDTM&HAAHIVS'\n",
      " 'MDFACA' 'MBCHB(HONS)MDMRCS' 'MDPHDMA' 'MBBCHBAO(MD)' 'MDPL' 'MDPSC'\n",
      " 'MDFAAPMR' 'MDMSMPH' 'MDFACSLLC' 'MDMRCPI' 'MDMPHTM' 'MDMBBS'\n",
      " 'MDPROFCORP' 'MDMSE(SURG)' 'MD/' 'MDANDPA' 'MDMSCE' 'MDMSCFRCSC' 'MDSCD'\n",
      " 'MDMBAMPHFACS' 'MDMCPSFACPFCCP' 'MDRESIDENT/TRAINEE' 'MDW' 'MDFIPP'\n",
      " 'MDMPHIL' 'MDCHARTERED' 'MDPHDFRCSC' 'MDFACSMBA' 'DOFACOIFACPCMD'\n",
      " 'PHD/MD' 'MDPLLC' 'MDFRCSCFACS' 'MDMHS' 'MD`' 'MDDPHI' 'MDMPHFACC'\n",
      " 'MDFHM' 'MDMRCP(UK)' 'MDDABFM' 'MD(MBBCH)' 'MBBCH/MD' 'MD/MHS' 'MDDRMED'\n",
      " 'MDMPHFAAFP' 'MDQ' 'MDFACG' 'JRMD' 'MD(GERMANY)' 'MAGGIEBLACKBURNMD'\n",
      " 'MDMBBSFACP' 'GENERALMEDICINE' 'MDPSYCHIATRISTCHIL' 'MDMHPE' 'MDAPMC'\n",
      " 'MD/PHD/MPH' 'MSMD' 'MDS' 'MDMSPH' 'MD;FACG' 'MDCWS' 'NMDFASA'\n",
      " 'MBBS(MDEQUIVALENT)' 'MDJDFCLMABFM' 'MDFAAPFACS' 'MDMHSC' 'MDMPHMHSA'\n",
      " 'MDPHDMPH' 'MBCHBMD' 'DO/MD' 'DAVIDFELDMANMD' 'MDPHDFACC' 'MD;MB'\n",
      " 'MDMSFACEP' 'MDFACSPC' 'MDFACCFACAFCCP' 'MDINTERNIST' 'MDPHDFRCP'\n",
      " 'MBBCH(MDEQUIVALE' 'MDFP' 'MDAPROFCORP' 'MDPCFACPFAAAFACR' 'BMMD'\n",
      " 'MDINTRAINING' 'MD;PC' 'FAMILYMEDICINENP' 'MEDICALPRACTICE' 'MDMSMS'\n",
      " 'MDFASS' 'MDFACR' 'MDMSFACP' 'MEDICALDOCTORMD' 'MDFAAOPA' 'MDFACPFACE'\n",
      " 'MDCMDMSPH' 'BA&MD' 'JUSTINPALATTMD' 'MD(EXPECTED)' 'MDE' 'MDMSCBCEM'\n",
      " 'MDDPA' 'MDACP' 'MDDA' 'MDAMC' 'MDMMPH' 'ELANGOLDWYNMD' 'PHAMD'\n",
      " 'JEFFREYHARTOGMD' 'MDABFPPC' 'MD/PHD/FACP' 'SETHGLASSMANMD' 'MDPENDING'\n",
      " 'MMD' 'MDFRCPFCCP' 'MDAPC' 'MD(MB;BS)' 'MDMPHCDECNS' 'MDFACSFRCSC'\n",
      " 'MDMEDICALDOCTOR' 'NMDDOCTOROFNATURO' 'MDFACCFCCP' 'MD/FAMILYPRACTICE'\n",
      " 'MDLTDAPC' 'MDCS' 'MDFRCP' 'MDFACCFACPFCCP' 'MD/MA' 'MBBSMDFACSFAAOS'\n",
      " 'MDFCCPFACP' 'MDFACPCDE' 'MDFAAOSFACS' 'MDPHDFACS' 'MDINTERNALMEDICINE'\n",
      " 'DOCTOROFMEDICINE' 'MDFICSLLC' 'MDUN' 'MDFACSRPVIRVTRDM' 'MDMRO' 'MDAAFP'\n",
      " 'MDPSYCHIATRISTPSYC' 'MDMPHFACS' 'MSMDPHDPA' 'MDDPHIL' 'MDMHC' 'MDC'\n",
      " 'MDANDFAAP' 'MEDICALOB/GYN' 'PSYCHIATRISTMD' 'MD;MCLSC' 'MDFACAAI'\n",
      " 'DOMDH' 'MDFACPFACNFACE' 'MDMPH&TM' 'MDFACSAPC' 'MDFAAO'\n",
      " 'THOMASEBAILEYMD' 'MDD' 'MDFACEPFAAEM' 'MDENT' 'MDCMFRCS' 'MDMBBSFRCSC'\n",
      " 'MDMPHSCD' 'MD/FACS' 'MDGENERALPRACTICE' 'VINCECACHOMD' 'MSMD/MBA'\n",
      " 'MDFAPA' 'MD/RHEUMATOLOGIST' 'VIVIANBYKERKMD' 'MDMPA' 'MAMD'\n",
      " 'DPMDOCTOROFPEDIAT' 'MDPHDDC' 'MDFAAC' 'RD/MD' 'MDFACSFICS' 'MDFACPFACG'\n",
      " 'MDCPMR' 'MDMPHMSC' 'MDMPHPHD' 'MDSTUDENT' 'PHD;MD' 'MDPULM/SM' 'MDMPHMS'\n",
      " 'MDPHDFACP' 'MDCH' 'MDPHSYCHIATRIST' 'LACOMD' 'SHARISSIMONIANMD' 'MDMOH'\n",
      " 'MBBSMDMPH' 'MDDM' 'MDFICSFACS' 'MBBCHMDMCHPHDFR' 'AMD' 'NMDLAC' 'MDMMM'\n",
      " 'MDCMD' 'MD/INTERNALMEDICINE' 'EDWARDHIRSCHMD' 'MDMEDICOGENERALIST'\n",
      " 'MBBCHMD' 'MDFRCSFACS' 'MDFACCRCS' 'MD;FCCP' 'MDMSFRCSC'\n",
      " 'CHRISTINAKHOURYMD' 'MDACN' 'MDMHSA' 'MDMACP' 'MD/OBGYN' 'MDFACOGJD'\n",
      " 'MDABFPFRCSDAFPA' 'MDSD' 'MDFACCPC' 'MICHAELKULICKMD' 'MDOB'\n",
      " 'WILLIAMCROMIEMD' 'MDF' 'MBBSMDDM' 'MDPSYCHIATRY' 'MDCMFRCP(C)FACG'\n",
      " 'PHPMD' 'MDRVTFACS' 'MS;MD' 'MDMBCHB' 'MDRD' 'MDFASBP' 'MBBCH(MD)'\n",
      " 'MDDABS' 'MDPHDFACSFRCSC' 'MDMBAFACEPCPE' 'MDCCHP' 'MD(MEDICALDOCTO'\n",
      " 'CSPOMMDOMB' 'MBBSMDCAQSMFAAFP' 'MDMAMPH' 'MARKZETINMD' 'MDMBAFACP'\n",
      " 'MDMHA' 'MDMSPA' 'MDFAMILYPRACTICE' 'MDFAAFPFACEP' 'MD/FACOG' 'MDMBA/MHA'\n",
      " 'MDMPHMISM' 'DOMDMA' 'HKENNETHWALKERMD' 'MDFACCFASE' 'MD/PHD/MTS'\n",
      " 'MDMBAFACC' 'MDIM' 'MDINTERNALMED' 'MDDPH' 'MDNLLC' 'MDFRCP(C)'\n",
      " 'MDFACCFSCAIFSVM' 'MTMDMPHFAAFP' 'MDFAAPPHD' 'MDINTMED&GASTR' 'MDMBAMPH'\n",
      " 'MDFRCPFACP' 'MDFACPFACR' 'MDU' 'MD<MPH' 'MDPHYSICIANANDSUR' 'MDSCM'\n",
      " 'MDMEDIACLDOCTOR' 'DCMD' 'MDFAMILYPHYSICIA' 'MD(MBBS' 'MDPCFPMRS' 'DMMD'\n",
      " 'ANNAANSALDOMD' 'DOCMD' 'MDMAC' 'MDANESTHESIOLOGIST' 'MSMDLLC' 'MDFAOG'\n",
      " 'MDQME' 'MSCMDFRCSC' 'MDMRCP' 'JENNIFERYEUNGMD' 'ADELELIEBERMD' 'MDMPPH'\n",
      " 'MDMSCI' 'MDFACCFACPFSCAIF' 'MDDC' 'FAMILYMEDICINE' 'MDJDFCLM' 'MDPHDPA'\n",
      " 'MD/DC' 'MDMPHFAAN' 'MDINTERNALMEDICI' 'DENNISRMEYERMD' 'MDPH' 'MDAMED'\n",
      " 'MDOPTHALMOLOGY' 'MDPAFACS' 'MD(RETIRED)' 'MD/ABPN' 'MDLP' 'MDID'\n",
      " 'MDBOARDCERTIFIED' 'BMD' 'DRMD' 'MDFACPFACC' 'GPMD' 'MDOB/GYN'\n",
      " 'MDMSPHFACPM' 'MPHMD' 'MDMBAMS' 'DOMDPHD' 'NATALIAJOHNSONMD' 'MDT'\n",
      " 'MEDICALPHYSICIANAS' 'MD(APMC)' 'MDRET' 'MDGEN' 'MDAPROFESSIONALCO'\n",
      " 'MDMPHLLC' 'MDPHDJD' 'MDSM' 'MDINTMED&OPTHA' 'MDMPHFACP' 'MDFACSFAAP'\n",
      " 'MDMPHABAM' 'MEDICINE' 'MDFACPFCCP' 'MDDFAPA' 'MDFACPFIDSA' 'PMD'\n",
      " 'MDCMFRCSC' 'LIMITEDPERMITMD' 'MEDICALASSISTANT' 'MDDABPM'\n",
      " 'MEDICALOBGYN/MD' 'MD+' 'MEDICALDOCTORS' 'JRMDMPH' 'MDMRCPFRACP'\n",
      " 'MDFACPMRCPUK' 'MD;MBBS' 'MDRETIRED' 'DCNMD' 'MDLMHC' 'MBBS;MD' 'D>MD'\n",
      " 'PAULLONGMD' 'MDFACPFASN' 'MSMDPHD' 'MDCEO' 'MDFRCP(UK)' 'MDMABCHBAO'\n",
      " 'MD/MSC' 'MDFACPFASNFASH']\n"
     ]
    }
   ],
   "source": [
    "print(MD)"
   ]
  },
  {
   "cell_type": "code",
   "execution_count": 81,
   "metadata": {},
   "outputs": [],
   "source": [
    "df2[0] = df2[0].replace(MD, 'Medical Doctor')"
   ]
  },
  {
   "cell_type": "code",
   "execution_count": 82,
   "metadata": {},
   "outputs": [],
   "source": [
    "#Classifying everything with possible nursing abbreviations\n",
    "nurse_check = df2[0].str.contains('NP|LPN|CNM|MSN|RN|NURS|APN|BSN', case=False)\n",
    "nurse_true = df2[nurse_check]\n",
    "nurse = nurse_true[0].unique()"
   ]
  },
  {
   "cell_type": "code",
   "execution_count": 83,
   "metadata": {},
   "outputs": [
    {
     "name": "stdout",
     "output_type": "stream",
     "text": [
      "['FNP' 'DNP' 'APRN' ... 'MSNRNNPC' 'CFNPCDE' 'RNMSNHSAFNP']\n"
     ]
    }
   ],
   "source": [
    "print(nurse)"
   ]
  },
  {
   "cell_type": "code",
   "execution_count": 84,
   "metadata": {},
   "outputs": [],
   "source": [
    "df2[0] = df2[0].replace(nurse, 'Nurse')"
   ]
  },
  {
   "cell_type": "code",
   "execution_count": 85,
   "metadata": {},
   "outputs": [],
   "source": [
    "#Classifying everything with PA\n",
    "PA_check = df2[0].str.contains('PA|PHYSCIAN|PHYSICIAN', case=False)\n",
    "PA_true = df2[PA_check]\n",
    "PA = PA_true[0].unique()"
   ]
  },
  {
   "cell_type": "code",
   "execution_count": 86,
   "metadata": {},
   "outputs": [
    {
     "name": "stdout",
     "output_type": "stream",
     "text": [
      "['PA' 'RPA' 'PA/MPH' 'PHYSICIANASSISTANT' 'RPAC' 'MSPAS' 'PAC' 'MPAS'\n",
      " 'PAS' 'MSPA' 'PHYSICIANASSISTAT' 'MPA' 'DPMPA' 'PAMPAS'\n",
      " 'PHYSICIANSASSISTANT' 'MSPAC' 'EDDMBAPA' 'PHYSICIANSASST' 'PHYSCIAN'\n",
      " 'PHYSICIANASSISTENT' 'GPA' 'MTPA' 'OPA' 'MPAP' 'PHYSICIANASST'\n",
      " 'PA(PHYSICIANASSIST' 'MSPASPA' 'PACS' 'PHYSICIANSASSISTANC' 'MMSPA'\n",
      " 'MPASPA' 'ODPA' 'PACCDE' 'PAPHYSICIANASST' 'PHYSICIAN' 'CPA' 'MSHSPA'\n",
      " 'PAPHD' 'DOPA' 'MPAC' 'PAPHYSICIANASSISTA' 'PAMIDLEVELPRACTIT'\n",
      " 'NDNATUROPATHICDO' 'PHYSICIANASSITANT' 'PA/C' 'DOCTOROFOSTEOPATHY'\n",
      " 'PAMPH' 'MHSPA' 'PHYSICIANEXTENDER' 'PHYSICIANASSTCERTI' 'JOEPALMQUIST'\n",
      " 'PACMS' 'PHYSICIANSASSTPA' 'PHYSICIANASSISANT' 'PAL' 'MPASPAC' 'PACMHSA'\n",
      " 'PACERTIFIEDPAC' 'MPHPAC' 'DPMPAC' 'PACATC' 'PHYSICIANASSTC' 'PAERTIFIED'\n",
      " 'PA/SA' 'PACMHS' 'APAC' 'PACPHYSICIANASSIST' 'RPACPHYSICIANASSIS' 'CRPA'\n",
      " 'RPA(PHYSICIANAS' 'PHYSICIANASSIATANT' 'PHDPA' 'LPAC' 'PA_C'\n",
      " 'FAMILYPHYSICIAN' 'MPAS/ATC/PAC' 'PAPHYSICIANASSIS' 'REGISTEREDPA'\n",
      " 'PACMPAS' 'MS;PA' 'PHYSICIANASSTCERT' 'PACDC' 'MSRPA' 'LPA'\n",
      " 'PHYSCIANASSISTANT' 'PASTUDENT' 'MSPSRPA' 'PHYSICIANSURGEON' 'PHDPAC'\n",
      " 'PA>' 'MMSPAC' 'SHANNONFISHPA' 'PAMMS' 'MPH&PA' 'PHYSICIANSASSITANT'\n",
      " 'MPHPA' 'R/PA' 'PA;RPT' 'PAULHALL' 'WILLIAMBLAKESLEEPA' 'PA&ATC' 'MAPAC'\n",
      " 'RESIDENTPHYSICIAN' \"PHYSICIAN'SASSISTAN\" 'MAPA' 'MHSPACATC'\n",
      " 'PHYSICIANASSISTANE' 'APA' 'CERTIFIEDPA' \"PHYSICIAN'ASSISTANT\" 'MLPPA'\n",
      " 'PACERTIFIED' 'PHDMPASPA' 'WHPAC' 'PAA' 'MHSPAC' 'PA/MPAS' 'RPA/C' 'PAT'\n",
      " 'PA;OTR/L' 'PAMS' 'NCCPA' 'PACMPH' 'ORTHOPEDICPA' 'PACMBA' 'SAPA'\n",
      " 'PA(PHYSICIANASSIS' 'PHYSICIANASSISATANT' 'NATUROPATHICDOCTOR' 'RPAMS'\n",
      " 'MPHRDLDPA' 'BS;RPAC' 'OPAC' 'MMS;PA' 'PHYSICIANASSISTANCE' 'PA(PA)'\n",
      " 'PAATC' 'PAXC' 'PHYSICIANASSISTANG' 'PAMHSMSC' 'RPAMPAS' 'PA;MPAS'\n",
      " 'PA(PHYSICIANASSI' 'PABS' 'PACMHP' 'OPTOMETRICPHYSICIAN' 'PAPAC' 'PA;DC'\n",
      " 'PAAA' 'PACCWS' 'PHYSICIANASISTANT' 'CERTIFIEDPHYSICIAN' 'PAMTASCP'\n",
      " 'PHYSICIANASSTPAC' 'OSTEOPATH' '(PA)' 'PAU' 'PADPM' 'PA;DHSC'\n",
      " 'NDNATUROPATHICDOCT' 'RPACMS' 'MSPAS/MPH' 'RAYMONDPATEDO'\n",
      " 'PHYSICIANASSSISTANT' 'PHYSICIANASSTISTANT' 'DODOCTOROFOSTEOPA'\n",
      " 'RPAHOSPITALIST' 'SA/PA' 'PALMT' 'MPAPAC' 'PAPHYSICIANASSIST' 'PACC'\n",
      " 'PAREGPSYCHOTHER' 'PACOGTSUCUABSASSIS' 'ORTHOPAEDICSURGEON' 'PA/BS'\n",
      " 'DO/OSTEOPATH' 'PHYSCIANSASSISTANT' 'MPASRPA' 'DOMPA' 'PHYSICIANSASSTC'\n",
      " 'NATUROPATHND' 'MMSCPA' 'PACCPP' 'PHYSICIANASSISTANTS' 'PAP'\n",
      " 'PHYSICIANASSISSTANT' 'PAPHYSICIANASSI' 'MSATCPAS' 'RPA_C' 'PA/L/ATC'\n",
      " 'ND(NATUROPATH)' 'DOFACOGPA' 'MIKELITWICKIPA' 'MSPAP' 'PA/LCSW' 'BSPA'\n",
      " 'PACPHD' 'PACCM' 'PHYSICIANASS' 'PAN' 'PACMMS' 'BA;MHSPA' 'PACRD'\n",
      " 'NATUROPATHIC' 'SPA' 'PAC/ATC' 'RPAMSPA' '(RPA)' 'DSCPAEM' 'PTPA'\n",
      " 'MS(ORTHOPAEDICS)' 'PACPHYSICIANASS' 'MCPA' 'RPACPT' 'PA/PHYSICIANASST'\n",
      " 'DIMITRIPAPADOPOULOS' 'PAX' 'PHYSICIANASSTERT' 'JINKIMPA' 'PAQ' 'MSBSPAC'\n",
      " 'PAPA']\n"
     ]
    }
   ],
   "source": [
    "print(PA)"
   ]
  },
  {
   "cell_type": "code",
   "execution_count": 87,
   "metadata": {},
   "outputs": [],
   "source": [
    "df2[0] = df2[0].replace(PA, 'Physican Assistant')"
   ]
  },
  {
   "cell_type": "code",
   "execution_count": 88,
   "metadata": {},
   "outputs": [],
   "source": [
    "#Classifying everything with DPM\n",
    "dpm_check = df2[0].str.contains('DPM|PODIA', case=False)\n",
    "dpm_true = df2[dpm_check]\n",
    "dpm = dpm_true[0].unique()"
   ]
  },
  {
   "cell_type": "code",
   "execution_count": 89,
   "metadata": {},
   "outputs": [
    {
     "name": "stdout",
     "output_type": "stream",
     "text": [
      "['DPM' 'DPM/PHD' 'DPMFACFO' 'DPMCWS' 'DPMMPH' 'DPMPODIATRIST' 'DPMPC'\n",
      " 'DPMINC' 'DPM/MPH' 'DPMPHD' 'DPMPT' 'DPMCWSFACFAOM' 'DPMMS' 'DPMPS'\n",
      " 'DPMFACFAS' 'DPMFACFASCPED' 'DPMLLC' 'DPM/CWP' 'DPMABPS' 'DPMPLLC'\n",
      " 'PODIATRISTDPM' 'DPMND' 'PODIATRIST' 'PHDPMHCNS' 'DPMMA' 'DCDPM'\n",
      " 'DPMFACFS' 'DPMCWSP' 'DPMFACFASSC' 'DPMMHALLC' 'DPMMSME' 'DPMPODIATRY'\n",
      " 'PODIATRY' 'DOCTOROFPODIATRY' 'DPMFACFAOM']\n"
     ]
    }
   ],
   "source": [
    "print(dpm)"
   ]
  },
  {
   "cell_type": "code",
   "execution_count": 90,
   "metadata": {},
   "outputs": [],
   "source": [
    "df2[0] = df2[0].replace(dpm, 'Podiatrist')"
   ]
  },
  {
   "cell_type": "code",
   "execution_count": 91,
   "metadata": {},
   "outputs": [],
   "source": [
    "#Classifying everything with PA\n",
    "eye_check = df2[0].str.contains('OD|OPTO', case=False)\n",
    "eye_true = df2[eye_check]\n",
    "eye = eye_true[0].unique()"
   ]
  },
  {
   "cell_type": "code",
   "execution_count": 92,
   "metadata": {},
   "outputs": [
    {
     "name": "stdout",
     "output_type": "stream",
     "text": [
      "['OD' 'Podiatrist' 'OPTOMETRYDOCTOR' 'DOCTOROFOPTOMETRY' 'OPTOMETRIST'\n",
      " 'ODPC' 'ODFAAO' 'OD>' 'ODFCOVD' 'PERIODONTIST' 'ODLLC' 'ODOPTOMETRIST'\n",
      " 'ODPLC' 'ODCHARTERED' 'OPTOMETIST' 'ODMBA' 'ODDROFOPTOMETRY' 'OD/MS'\n",
      " 'ODMS' 'KENTUCKYPERIODONTAL' 'PHDOD' 'OPTOMERISTS' 'MOD' 'OPTOMETRIS'\n",
      " 'ODFCOVDPC' 'OD&ASSOCPC' 'ODPSC' 'ODMSC' 'KENGOODELL' 'PROSTHODONTIST'\n",
      " 'ODINC' 'KEVINRECKLEYOD' 'ANOPTOMETRICCORP' 'FRANKBONIFACIODO'\n",
      " 'OPTOMETRY' 'MAXILLOPROSTHODONTIS' 'OD(OPTOMETRIST)' 'ODPHD' 'ODS'\n",
      " 'ODMED' 'OPTOMOTRIST' 'OPTOMETRICDOCTOR' 'ODMPH' 'ODMBAFAAO'\n",
      " 'ODOPTOMETRY' 'ODLTD' 'OD/MBA' 'ODAPC' 'MSOD' 'ODPS' 'OOD'\n",
      " 'OPTOMETRISTOD' 'ENDODONTIST' 'ODPLLC' 'MELODYLYND' 'OPTOMETRYSTUDENT'\n",
      " 'RODNEYHELM' 'PEARKARLSGODT' 'THERAPEUTICOPTOMETR']\n"
     ]
    }
   ],
   "source": [
    "print(eye)"
   ]
  },
  {
   "cell_type": "code",
   "execution_count": 93,
   "metadata": {},
   "outputs": [],
   "source": [
    "df2[0] = df2[0].replace(eye, 'Optometrist')"
   ]
  },
  {
   "cell_type": "code",
   "execution_count": 94,
   "metadata": {},
   "outputs": [],
   "source": [
    "#Classifying all values that appear less than 300 times as 'other'\n",
    "fewer = df2.groupby(0).filter(lambda x:len(x) < 300)\n",
    "few = fewer[0].unique()"
   ]
  },
  {
   "cell_type": "code",
   "execution_count": 95,
   "metadata": {},
   "outputs": [],
   "source": [
    "df2[0] = df2[0].replace(few, 'Other')"
   ]
  },
  {
   "cell_type": "code",
   "execution_count": 96,
   "metadata": {},
   "outputs": [
    {
     "data": {
      "text/plain": [
       "Medical Doctor        603127\n",
       "Nurse                 144359\n",
       "Dentist/DDS           131158\n",
       "Physican Assistant     85522\n",
       "unknown                70738\n",
       "DO                     69258\n",
       "Optometrist            43618\n",
       "Pharmacist              5141\n",
       "Other                   4218\n",
       "MBBS                    1791\n",
       "MS                      1203\n",
       "ND                       831\n",
       "PHD                      784\n",
       "CNS                      529\n",
       "BDS                      319\n",
       "DC                       302\n",
       "Name: 0, dtype: int64"
      ]
     },
     "execution_count": 96,
     "metadata": {},
     "output_type": "execute_result"
    }
   ],
   "source": [
    "#Looking at final groupings \n",
    "df2[0].value_counts()"
   ]
  },
  {
   "cell_type": "code",
   "execution_count": 97,
   "metadata": {},
   "outputs": [],
   "source": [
    "#Renaming this cleaned credential field to the orginal name for merging with other data\n",
    "df3 = df2.rename(columns = {0: 'nppes_credentials'})"
   ]
  },
  {
   "cell_type": "code",
   "execution_count": 98,
   "metadata": {},
   "outputs": [
    {
     "data": {
      "text/plain": [
       "Index(['npi', 'nppes_provider_last_org_name', 'nppes_provider_first_name',\n",
       "       'nppes_provider_mi', 'nppes_provider_gender', 'nppes_entity_code',\n",
       "       'nppes_provider_street1', 'nppes_provider_city', 'nppes_provider_zip5',\n",
       "       'specialty_description', 'description_flag',\n",
       "       'medicare_prvdr_enroll_status', 'total_claim_count',\n",
       "       'total_30_day_fill_count', 'total_drug_cost', 'total_day_supply',\n",
       "       'bene_count', 'ge65_suppress_flag', 'total_claim_count_ge65',\n",
       "       'total_30_day_fill_count_ge65', 'total_drug_cost_ge65',\n",
       "       'total_day_supply_ge65', 'bene_count_ge65_suppress_flag',\n",
       "       'bene_count_ge65', 'brand_suppress_flag', 'brand_claim_count',\n",
       "       'brand_drug_cost', 'generic_suppress_flag', 'generic_claim_count',\n",
       "       'generic_drug_cost', 'other_suppress_flag', 'other_claim_count',\n",
       "       'other_drug_cost', 'mapd_suppress_flag', 'mapd_claim_count',\n",
       "       'mapd_drug_cost', 'pdp_suppress_flag', 'pdp_claim_count',\n",
       "       'pdp_drug_cost', 'lis_suppress_flag', 'lis_claim_count',\n",
       "       'lis_drug_cost', 'nonlis_suppress_flag', 'nonlis_claim_count',\n",
       "       'nonlis_drug_cost', 'opioid_claim_count', 'opioid_drug_cost',\n",
       "       'opioid_day_supply', 'opioid_bene_count', 'opioid_prescriber_rate',\n",
       "       'la_opioid_claim_count', 'la_opioid_drug_cost', 'la_opioid_day_supply',\n",
       "       'la_opioid_bene_count', 'la_opioid_prescriber_rate',\n",
       "       'antibiotic_claim_count', 'antibiotic_drug_cost',\n",
       "       'antibiotic_bene_count', 'antipsych_ge65_suppress_flag',\n",
       "       'antipsych_claim_count_ge65', 'antipsych_drug_cost_ge65',\n",
       "       'antipsych_bene_ge65_suppress_flg', 'antipsych_bene_count_ge65',\n",
       "       'average_age_of_beneficiaries', 'beneficiary_female_count',\n",
       "       'beneficiary_male_count', 'beneficiary_nondual_count',\n",
       "       'beneficiary_dual_count', 'beneficiary_average_risk_score', 'EXCLYear',\n",
       "       'REINYear', 'excl_type', 'exclusion_flag', 'country', 'state',\n",
       "       'nppes_credentials'],\n",
       "      dtype='object')"
      ]
     },
     "execution_count": 98,
     "metadata": {},
     "output_type": "execute_result"
    }
   ],
   "source": [
    "#Checking column name\n",
    "df3.columns"
   ]
  },
  {
   "cell_type": "code",
   "execution_count": 99,
   "metadata": {},
   "outputs": [
    {
     "data": {
      "text/plain": [
       "(1162898, 76)"
      ]
     },
     "execution_count": 99,
     "metadata": {},
     "output_type": "execute_result"
    }
   ],
   "source": [
    "#Checking shape to confirm all rows still there\n",
    "df3.shape"
   ]
  },
  {
   "cell_type": "code",
   "execution_count": 100,
   "metadata": {},
   "outputs": [
    {
     "data": {
      "text/html": [
       "<div>\n",
       "<style scoped>\n",
       "    .dataframe tbody tr th:only-of-type {\n",
       "        vertical-align: middle;\n",
       "    }\n",
       "\n",
       "    .dataframe tbody tr th {\n",
       "        vertical-align: top;\n",
       "    }\n",
       "\n",
       "    .dataframe thead th {\n",
       "        text-align: right;\n",
       "    }\n",
       "</style>\n",
       "<table border=\"1\" class=\"dataframe\">\n",
       "  <thead>\n",
       "    <tr style=\"text-align: right;\">\n",
       "      <th></th>\n",
       "      <th>npi</th>\n",
       "      <th>nppes_provider_last_org_name</th>\n",
       "      <th>nppes_provider_first_name</th>\n",
       "      <th>nppes_provider_mi</th>\n",
       "      <th>nppes_provider_gender</th>\n",
       "      <th>nppes_entity_code</th>\n",
       "      <th>nppes_provider_street1</th>\n",
       "      <th>nppes_provider_city</th>\n",
       "      <th>nppes_provider_zip5</th>\n",
       "      <th>specialty_description</th>\n",
       "      <th>...</th>\n",
       "      <th>beneficiary_nondual_count</th>\n",
       "      <th>beneficiary_dual_count</th>\n",
       "      <th>beneficiary_average_risk_score</th>\n",
       "      <th>EXCLYear</th>\n",
       "      <th>REINYear</th>\n",
       "      <th>excl_type</th>\n",
       "      <th>exclusion_flag</th>\n",
       "      <th>country</th>\n",
       "      <th>state</th>\n",
       "      <th>nppes_credentials</th>\n",
       "    </tr>\n",
       "  </thead>\n",
       "  <tbody>\n",
       "    <tr>\n",
       "      <th>0</th>\n",
       "      <td>1003000126</td>\n",
       "      <td>ENKESHAFI</td>\n",
       "      <td>ARDALAN</td>\n",
       "      <td>NaN</td>\n",
       "      <td>M</td>\n",
       "      <td>I</td>\n",
       "      <td>900 SETON DR</td>\n",
       "      <td>CUMBERLAND</td>\n",
       "      <td>21502.0</td>\n",
       "      <td>Internal Medicine</td>\n",
       "      <td>...</td>\n",
       "      <td>143.0</td>\n",
       "      <td>91.0</td>\n",
       "      <td>2.1685</td>\n",
       "      <td>NaN</td>\n",
       "      <td>NaN</td>\n",
       "      <td>NaN</td>\n",
       "      <td>0</td>\n",
       "      <td>US</td>\n",
       "      <td>MD</td>\n",
       "      <td>Medical Doctor</td>\n",
       "    </tr>\n",
       "    <tr>\n",
       "      <th>1</th>\n",
       "      <td>1003000142</td>\n",
       "      <td>KHALIL</td>\n",
       "      <td>RASHID</td>\n",
       "      <td>NaN</td>\n",
       "      <td>M</td>\n",
       "      <td>I</td>\n",
       "      <td>4126 N HOLLAND SYLVANIA RD</td>\n",
       "      <td>TOLEDO</td>\n",
       "      <td>43623.0</td>\n",
       "      <td>Surgery</td>\n",
       "      <td>...</td>\n",
       "      <td>143.0</td>\n",
       "      <td>133.0</td>\n",
       "      <td>1.8029</td>\n",
       "      <td>NaN</td>\n",
       "      <td>NaN</td>\n",
       "      <td>NaN</td>\n",
       "      <td>0</td>\n",
       "      <td>US</td>\n",
       "      <td>OH</td>\n",
       "      <td>Medical Doctor</td>\n",
       "    </tr>\n",
       "    <tr>\n",
       "      <th>2</th>\n",
       "      <td>1003000167</td>\n",
       "      <td>ESCOBAR</td>\n",
       "      <td>JULIO</td>\n",
       "      <td>E</td>\n",
       "      <td>M</td>\n",
       "      <td>I</td>\n",
       "      <td>5 PINE CONE RD</td>\n",
       "      <td>DAYTON</td>\n",
       "      <td>89403.0</td>\n",
       "      <td>Dentist</td>\n",
       "      <td>...</td>\n",
       "      <td>NaN</td>\n",
       "      <td>NaN</td>\n",
       "      <td>1.0598</td>\n",
       "      <td>NaN</td>\n",
       "      <td>NaN</td>\n",
       "      <td>NaN</td>\n",
       "      <td>0</td>\n",
       "      <td>US</td>\n",
       "      <td>NV</td>\n",
       "      <td>Dentist/DDS</td>\n",
       "    </tr>\n",
       "    <tr>\n",
       "      <th>3</th>\n",
       "      <td>1003000175</td>\n",
       "      <td>REYES-VASQUEZ</td>\n",
       "      <td>BELINDA</td>\n",
       "      <td>NaN</td>\n",
       "      <td>F</td>\n",
       "      <td>I</td>\n",
       "      <td>322 N AZUSA AVE STE 202</td>\n",
       "      <td>LA PUENTE</td>\n",
       "      <td>91744.0</td>\n",
       "      <td>Dentist</td>\n",
       "      <td>...</td>\n",
       "      <td>NaN</td>\n",
       "      <td>NaN</td>\n",
       "      <td>NaN</td>\n",
       "      <td>NaN</td>\n",
       "      <td>NaN</td>\n",
       "      <td>NaN</td>\n",
       "      <td>0</td>\n",
       "      <td>US</td>\n",
       "      <td>CA</td>\n",
       "      <td>Dentist/DDS</td>\n",
       "    </tr>\n",
       "    <tr>\n",
       "      <th>4</th>\n",
       "      <td>1003000282</td>\n",
       "      <td>BLAKEMORE</td>\n",
       "      <td>ROSIE</td>\n",
       "      <td>K</td>\n",
       "      <td>F</td>\n",
       "      <td>I</td>\n",
       "      <td>TENNESSEE PRISON FOR WOMEN</td>\n",
       "      <td>NASHVILLE</td>\n",
       "      <td>37243.0</td>\n",
       "      <td>Nurse</td>\n",
       "      <td>...</td>\n",
       "      <td>NaN</td>\n",
       "      <td>NaN</td>\n",
       "      <td>4.5148</td>\n",
       "      <td>NaN</td>\n",
       "      <td>NaN</td>\n",
       "      <td>NaN</td>\n",
       "      <td>0</td>\n",
       "      <td>US</td>\n",
       "      <td>TN</td>\n",
       "      <td>Nurse</td>\n",
       "    </tr>\n",
       "  </tbody>\n",
       "</table>\n",
       "<p>5 rows × 76 columns</p>\n",
       "</div>"
      ],
      "text/plain": [
       "          npi nppes_provider_last_org_name nppes_provider_first_name  \\\n",
       "0  1003000126                    ENKESHAFI                   ARDALAN   \n",
       "1  1003000142                       KHALIL                    RASHID   \n",
       "2  1003000167                      ESCOBAR                     JULIO   \n",
       "3  1003000175                REYES-VASQUEZ                   BELINDA   \n",
       "4  1003000282                    BLAKEMORE                     ROSIE   \n",
       "\n",
       "  nppes_provider_mi nppes_provider_gender nppes_entity_code  \\\n",
       "0               NaN                     M                 I   \n",
       "1               NaN                     M                 I   \n",
       "2                 E                     M                 I   \n",
       "3               NaN                     F                 I   \n",
       "4                 K                     F                 I   \n",
       "\n",
       "       nppes_provider_street1 nppes_provider_city  nppes_provider_zip5  \\\n",
       "0                900 SETON DR          CUMBERLAND              21502.0   \n",
       "1  4126 N HOLLAND SYLVANIA RD              TOLEDO              43623.0   \n",
       "2              5 PINE CONE RD              DAYTON              89403.0   \n",
       "3     322 N AZUSA AVE STE 202           LA PUENTE              91744.0   \n",
       "4  TENNESSEE PRISON FOR WOMEN           NASHVILLE              37243.0   \n",
       "\n",
       "  specialty_description  ... beneficiary_nondual_count beneficiary_dual_count  \\\n",
       "0     Internal Medicine  ...                     143.0                   91.0   \n",
       "1               Surgery  ...                     143.0                  133.0   \n",
       "2               Dentist  ...                       NaN                    NaN   \n",
       "3               Dentist  ...                       NaN                    NaN   \n",
       "4                 Nurse  ...                       NaN                    NaN   \n",
       "\n",
       "   beneficiary_average_risk_score  EXCLYear  REINYear  excl_type  \\\n",
       "0                          2.1685       NaN       NaN        NaN   \n",
       "1                          1.8029       NaN       NaN        NaN   \n",
       "2                          1.0598       NaN       NaN        NaN   \n",
       "3                             NaN       NaN       NaN        NaN   \n",
       "4                          4.5148       NaN       NaN        NaN   \n",
       "\n",
       "   exclusion_flag country  state  nppes_credentials  \n",
       "0               0      US     MD     Medical Doctor  \n",
       "1               0      US     OH     Medical Doctor  \n",
       "2               0      US     NV        Dentist/DDS  \n",
       "3               0      US     CA        Dentist/DDS  \n",
       "4               0      US     TN              Nurse  \n",
       "\n",
       "[5 rows x 76 columns]"
      ]
     },
     "execution_count": 100,
     "metadata": {},
     "output_type": "execute_result"
    }
   ],
   "source": [
    "#Looking at data before saving as new file\n",
    "df3.head()"
   ]
  },
  {
   "cell_type": "code",
   "execution_count": 101,
   "metadata": {},
   "outputs": [],
   "source": [
    "df3.to_csv('Data/Providers_Updated_430.txt', sep='\\t', index = False)"
   ]
  },
  {
   "cell_type": "code",
   "execution_count": null,
   "metadata": {},
   "outputs": [],
   "source": []
  }
 ],
 "metadata": {
  "kernelspec": {
   "display_name": "Python 3",
   "language": "python",
   "name": "python3"
  },
  "language_info": {
   "codemirror_mode": {
    "name": "ipython",
    "version": 3
   },
   "file_extension": ".py",
   "mimetype": "text/x-python",
   "name": "python",
   "nbconvert_exporter": "python",
   "pygments_lexer": "ipython3",
   "version": "3.7.4"
  }
 },
 "nbformat": 4,
 "nbformat_minor": 2
}
